{
 "cells": [
  {
   "cell_type": "code",
   "execution_count": 1,
   "metadata": {},
   "outputs": [],
   "source": [
    "import os\n",
    "os.environ['CUDA_VISIBLE_DEVICES'] = '1' # 使用 GPU 0，"
   ]
  },
  {
   "cell_type": "code",
   "execution_count": 2,
   "metadata": {},
   "outputs": [
    {
     "name": "stderr",
     "output_type": "stream",
     "text": [
      "C:\\Users\\yu19\\Anaconda3\\lib\\site-packages\\h5py\\__init__.py:36: FutureWarning: Conversion of the second argument of issubdtype from `float` to `np.floating` is deprecated. In future, it will be treated as `np.float64 == np.dtype(float).type`.\n",
      "  from ._conv import register_converters as _register_converters\n"
     ]
    }
   ],
   "source": [
    "%matplotlib inline\n",
    "import tensorflow as tf\n",
    "import numpy as np\n",
    "import matplotlib.pyplot as plt\n",
    "from IPython.display import clear_output\n",
    "#clear_output(wait=True)\n",
    "import math\n",
    "from tensorflow.contrib import rnn\n",
    "# Hyper Parameters\n",
    "\n",
    "timestep_size =2\n",
    "LR_G = 0.0001          # learning rate for generator\n",
    "LR_D = 0.0001           # learning rate for discriminator\n",
    "HIDDEN_SIZE = 10        # think of this as number of ideas for generating an art work (Generator)\n",
    "\n",
    "\n",
    "BATCH_SIZE = 100#一個月 4 * 5\n",
    "                #半年 6 * 4 * 5 = 120\n",
    "OUTPUT_SIZE = 30\n",
    "\n",
    "INPUT_SIZE = OUTPUT_SIZE\n",
    "t = 5\n",
    "label_num = 1\n",
    "adjust_price_quantity=0.5\n",
    "adjust_price = 0#給予正負號\n",
    "\n",
    "lstm = True\n",
    "#_LST = not lstm\n",
    "F_resnet_layers_num = OUTPUT_SIZE\n",
    "a_Normalization = True\n",
    "load = False\n",
    "\n",
    "system_dynamic = False"
   ]
  },
  {
   "cell_type": "code",
   "execution_count": 3,
   "metadata": {},
   "outputs": [],
   "source": [
    "#上漲,下跌%數\n",
    "def Normarlization(data):\n",
    "    data2 = []\n",
    "    for i in range(0,len(data)-1):\n",
    "        today = data[i]\n",
    "        tomorrow = data[i+1]\n",
    "        \n",
    "        val =np.log(tomorrow) - np.log(today)\n",
    "        #val = tomorrow / today\n",
    "        data2.append(val)\n",
    "       \n",
    "    return data2\n",
    "\n",
    "def Shuffle(data):\n",
    "    np.random.shuffle(data)\n",
    "    return data\n",
    "def MinMaxNormalization(data):\n",
    "    assert np.array(data).ndim == 1 \n",
    "    \n",
    "    data = [ (float(f)-np.min(data) )/ (np.max(data)-np.min(data) ) for f in data]\n",
    "    \n",
    "    return data\n",
    "def MeanStdNormalization(data):\n",
    "    assert np.array(data).ndim == 1\n",
    "    data = [float(f)-np.mean(data) /np.std(data) for f in data]\n",
    "    return data\n",
    "\n",
    "def SlidingWindow(array,size):\n",
    "    iArr = []\n",
    "    for i in range(0,len(array)-size):\n",
    "        jArr = []\n",
    "        for j in range(i,i+size):\n",
    "            jArr.append(array[j])\n",
    "        iArr.append(jArr)\n",
    "    return iArr\n"
   ]
  },
  {
   "cell_type": "code",
   "execution_count": 4,
   "metadata": {},
   "outputs": [],
   "source": [
    "from os import listdir\n",
    "from os.path import isfile, join\n",
    "\n",
    "import xlrd\n",
    "disk = './'\n",
    "\n",
    "mypath = disk+'quantity'\n",
    "onlyfiles = [f for f in listdir(mypath) if isfile(join(mypath, f))]\n",
    "\n",
    "\n",
    "\n",
    "def readFromFiles(files):\n",
    "    data = []\n",
    "    mypath = disk+'quantity'\n",
    "    for i in range(0,len(files)):\n",
    "        path = mypath+'/'+files[i]\n",
    "        date = files[i][2:len(files[i])-4]\n",
    "        #print(date)\n",
    "        wb = xlrd.open_workbook(path)\n",
    "        ws = wb.sheets()[0]\n",
    "\n",
    "          \n",
    "        for j in range(0,ws.nrows):\n",
    "            code = ws.cell(j,1).value\n",
    "            #print(code)\n",
    "            if str(code)[0:4] == str(2330):\n",
    "                quantity = ws.cell(j,3).value\n",
    "                data.append([date,quantity])\n",
    "                #print(quantity)\n",
    "                break\n",
    "        \n",
    "    return data\n",
    "\n",
    "   \n",
    "issued_shares = readFromFiles(onlyfiles)\n",
    "\n",
    "\n"
   ]
  },
  {
   "cell_type": "code",
   "execution_count": null,
   "metadata": {},
   "outputs": [],
   "source": []
  },
  {
   "cell_type": "code",
   "execution_count": 5,
   "metadata": {},
   "outputs": [],
   "source": [
    "def SpecialSplit(line):\n",
    "    cannotSplit = False\n",
    "    splitIndexs = []\n",
    "    #print(line)\n",
    "    for index in range(0,len(line)):\n",
    "        \n",
    "        c = line[index]\n",
    "        #print(c)\n",
    "        if c == '\"':\n",
    "            cannotSplit = not cannotSplit\n",
    "            continue\n",
    "        if c ==',' and cannotSplit == False:\n",
    "            splitIndexs.append(index)\n",
    "            #print('i catch ,')\n",
    "    #print(splitIndexs)\n",
    "    startIndex = 0\n",
    "    splitLine = []\n",
    "    for index in splitIndexs:\n",
    "        splitLine.append(line[startIndex:index])\n",
    "        #print('???')\n",
    "        startIndex=index+1\n",
    "    splitLine.append(line[startIndex:len(line)-1])\n",
    "    splitLine2 = []\n",
    "    for l in splitLine:\n",
    "        s = ''\n",
    "        for c in l:\n",
    "            if c !='\"':\n",
    "                s += c\n",
    "        splitLine2.append(s)\n",
    "    return splitLine2"
   ]
  },
  {
   "cell_type": "code",
   "execution_count": null,
   "metadata": {},
   "outputs": [],
   "source": []
  },
  {
   "cell_type": "code",
   "execution_count": 6,
   "metadata": {},
   "outputs": [],
   "source": [
    "\n",
    "\n",
    "#股票資料2007-2018            \n",
    "#reader =  open(disk+'半導體股票資料.csv','r',encoding='BIG5')\n",
    "reader =  open(disk+'股票資料2007-2018.csv','r',encoding='BIG5')\n",
    "colName = reader.readline()\n",
    "dates= []\n",
    "rows = []\n",
    "def fitNumber(s):\n",
    "    for c in s:\n",
    "        if c not in [str(f) for f in range(0,10)]:\n",
    "            return False\n",
    "    return True\n",
    "check = False\n",
    "for line in reader.readlines():\n",
    "    lines = SpecialSplit (line)\n",
    "    #print(line)\n",
    "    #print(lines)\n",
    "    if len(lines[0])==4 and len(lines[1])<=2 and len(lines[2])<=2 and fitNumber(lines[0]) and fitNumber(lines[1]) and fitNumber(lines[2]):\n",
    "        if len(lines[1])==1 :\n",
    "            lines[1] = '0'+lines[1]\n",
    "            \n",
    "            \n",
    "            \n",
    "        if len(lines[2]) == 1:\n",
    "            lines[2] = '0'+lines[2]\n",
    "            \n",
    "        \n",
    "        \n",
    "        check = True    \n",
    "        date = (lines[0]+lines[1]+lines[2])\n",
    "        #print(date)\n",
    "    if lines[0] == '2330':\n",
    "        if check:\n",
    "            #print(date)\n",
    "            check = False\n",
    "            dates.append(date)\n",
    "            rows.append(lines)\n",
    "    \n",
    "# print(rows)\n",
    "# ##3 筆數\n",
    "# ##8 收盤價\n",
    "# ##5開盤價\n",
    "Quantity = [ line[3]for line in rows]\n",
    "Price = [line[5] for line in rows]\n",
    "Quantity= [ float((f.replace('\"','')).replace(',','')) for f in Quantity]\n",
    "\n",
    "\n",
    "Price = [ float(f) for f in Price]\n",
    "\n"
   ]
  },
  {
   "cell_type": "code",
   "execution_count": null,
   "metadata": {},
   "outputs": [],
   "source": []
  },
  {
   "cell_type": "code",
   "execution_count": 7,
   "metadata": {},
   "outputs": [],
   "source": [
    "\n",
    "def RestorePrice(Price,dates,date,interestRate,NumOfShare):\n",
    "    startIndex = -1\n",
    "    for i in range(0,len(dates)):\n",
    "        if date == dates[i]:\n",
    "            startIndex = i\n",
    "    Price = Price[0:startIndex] + [(f*(1+NumOfShare/10)+ interestRate) for index,f in enumerate(Price) if index >=startIndex]\n",
    "   \n",
    "    return Price\n",
    "\n"
   ]
  },
  {
   "cell_type": "code",
   "execution_count": 8,
   "metadata": {},
   "outputs": [],
   "source": [
    "#issued_shares"
   ]
  },
  {
   "cell_type": "code",
   "execution_count": null,
   "metadata": {},
   "outputs": [],
   "source": []
  },
  {
   "cell_type": "code",
   "execution_count": null,
   "metadata": {},
   "outputs": [],
   "source": []
  },
  {
   "cell_type": "code",
   "execution_count": 9,
   "metadata": {},
   "outputs": [
    {
     "name": "stdout",
     "output_type": "stream",
     "text": [
      "2832\n"
     ]
    }
   ],
   "source": [
    "#kill not in issued_shares\n",
    "select_index = []\n",
    "for index in  range(0,len(dates)):\n",
    "    check = False\n",
    "    for [date,j] in issued_shares:\n",
    "        #print(dates[index][0:6])\n",
    "        if dates[index][0:6] == date:\n",
    "            #print(dates[index][0:6],date)\n",
    "            check=True\n",
    "            break\n",
    "    if check:\n",
    "        select_index.append(index)\n",
    "print(len(select_index))\n",
    "\n",
    "dates = [f for index,f in enumerate(dates) if index in select_index]\n",
    "\n",
    "Price = [f for index,f in enumerate(Price) if index in select_index]\n",
    "Quantity = [f for index,f in enumerate(Quantity) if index in select_index]\n",
    "\n",
    "mean_Price = np.mean(Price)"
   ]
  },
  {
   "cell_type": "code",
   "execution_count": 10,
   "metadata": {},
   "outputs": [
    {
     "name": "stdout",
     "output_type": "stream",
     "text": [
      "138 2832\n"
     ]
    }
   ],
   "source": [
    "def GenerateQuantity(dates,issued_shares):\n",
    "    data = []\n",
    "    for date in dates:\n",
    "        i = date[0:6]\n",
    "        check = False\n",
    "        #print(i)\n",
    "        for [d,q] in issued_shares:\n",
    "            #print(d,q)\n",
    "            \n",
    "            if d == i:\n",
    "                data.append(q)\n",
    "                #print(i,q)\n",
    "                check = True\n",
    "        if not check:\n",
    "            print(i)\n",
    "                \n",
    "    return data\n",
    "\n",
    "print(len(issued_shares) ,len(dates))\n",
    "#print(issued_shares[0][0])"
   ]
  },
  {
   "cell_type": "code",
   "execution_count": 11,
   "metadata": {},
   "outputs": [],
   "source": [
    "issued_shares = GenerateQuantity(dates,issued_shares=issued_shares)\n"
   ]
  },
  {
   "cell_type": "code",
   "execution_count": 12,
   "metadata": {},
   "outputs": [],
   "source": [
    "assert len(issued_shares) == len(dates)\n"
   ]
  },
  {
   "cell_type": "code",
   "execution_count": 13,
   "metadata": {},
   "outputs": [
    {
     "name": "stdout",
     "output_type": "stream",
     "text": [
      "2832 2831 2832\n"
     ]
    },
    {
     "data": {
      "image/png": "[encoded data removed]",
      "text/plain": [
       "<Figure size 432x288 with 1 Axes>"
      ]
     },
     "metadata": {},
     "output_type": "display_data"
    },
    {
     "data": {
      "image/png": "[encoded data removed]",
      "text/plain": [
       "<Figure size 432x288 with 1 Axes>"
      ]
     },
     "metadata": {},
     "output_type": "display_data"
    },
    {
     "data": {
      "image/png": "[encoded data removed]",
      "text/plain": [
       "<Figure size 432x288 with 1 Axes>"
      ]
     },
     "metadata": {},
     "output_type": "display_data"
    },
    {
     "data": {
      "image/png": "[encoded data removed]",
      "text/plain": [
       "<Figure size 432x288 with 1 Axes>"
      ]
     },
     "metadata": {},
     "output_type": "display_data"
    }
   ],
   "source": [
    "Nor_Quantity = Normarlization(Quantity)\n",
    "Nor_Price= Normarlization(Price)\n",
    "\n",
    "\n",
    "print(len(issued_shares),len(Nor_Price),len(Price))\n",
    "\n",
    "\n",
    "\n",
    "\n",
    "\n",
    "MinMax_Quantity = MinMaxNormalization(Quantity)\n",
    "\n",
    "\n",
    "MinMax_Price = MinMaxNormalization(Price)\n",
    "\n",
    "plt.plot(MinMax_Quantity)\n",
    "plt.ylabel('MinMax_Quantity')\n",
    "plt.show()\n",
    "plt.plot(MinMax_Price)\n",
    "plt.ylabel('MinMax_Price')\n",
    "plt.show()\n",
    "\n",
    "\n",
    "\n",
    "plt.plot(Nor_Price)\n",
    "plt.ylabel('Nor_Price')\n",
    "plt.show()\n",
    "\n",
    "plt.plot(Nor_Quantity)\n",
    "plt.ylabel('Nor_Quantity')\n",
    "plt.show()\n"
   ]
  },
  {
   "cell_type": "code",
   "execution_count": 14,
   "metadata": {},
   "outputs": [],
   "source": [
    "\n",
    "# def Norlabel(data,Quantile,rangeofvalue=2,start_value = -1):\n",
    "#     \"\"\"\n",
    "#     大跌 中蝶 小跌 0 小漲 中漲 大漲\n",
    "#     \"\"\"\n",
    "#     labelN = -1\n",
    "#     data2 = []\n",
    "#     Negative_index = [index for index,f in enumerate(data) if f <= Quantile[0]]\n",
    "#     Postive_index = [index for index,f in enumerate(data) if f >= Quantile[1]]\n",
    "#     print(len(Negative_index))\n",
    "#     print(len(Postive_index))\n",
    "#     print(len(data) - len(Negative_index) - len(Postive_index))\n",
    "    \n",
    "#     for i in range(0,len(data)):\n",
    "#         if i in Negative_index:\n",
    "#             data2.append([-1])\n",
    "#         elif i in Postive_index:\n",
    "#             data2.append([1])\n",
    "#         else:\n",
    "#             data2.append([0])\n",
    "#     return data2\n",
    "\n",
    "# def Norlabel2(data):\n",
    "#     \"\"\"\n",
    "#     大跌 中蝶 小跌 0 小漲 中漲 大漲\n",
    "#     \"\"\"\n",
    "    \n",
    "#     data2 = []\n",
    "#     for i in data:\n",
    "#         v = 0\n",
    "#         if i >=1.1:\n",
    "#             v = 1\n",
    "#         elif i <= 0.9:\n",
    "#             v = -1\n",
    "#         data2.append(v)\n",
    "#     return data2\n",
    "        "
   ]
  },
  {
   "cell_type": "code",
   "execution_count": null,
   "metadata": {},
   "outputs": [],
   "source": []
  },
  {
   "cell_type": "code",
   "execution_count": null,
   "metadata": {},
   "outputs": [],
   "source": []
  },
  {
   "cell_type": "code",
   "execution_count": 15,
   "metadata": {},
   "outputs": [],
   "source": [
    "#Quantile_Price"
   ]
  },
  {
   "cell_type": "code",
   "execution_count": null,
   "metadata": {
    "scrolled": true
   },
   "outputs": [],
   "source": []
  },
  {
   "cell_type": "code",
   "execution_count": 16,
   "metadata": {},
   "outputs": [
    {
     "data": {
      "image/png": "[encoded data removed]",
      "text/plain": [
       "<Figure size 432x288 with 1 Axes>"
      ]
     },
     "metadata": {},
     "output_type": "display_data"
    },
    {
     "name": "stdout",
     "output_type": "stream",
     "text": [
      "-1.8999999999999986 -1.7000000000000028\n",
      "5 Price_a len 2827\n"
     ]
    }
   ],
   "source": [
    "#a = 2x / t^2\n",
    "#計算a\n",
    "\n",
    "def cal_a(data,t):\n",
    "    arr = []\n",
    "    for i in range(0,len(data)-t):\n",
    "        if system_dynamic:\n",
    "            _a = 2*( np.subtract(data[i+t],(data[i]))  ) / (t**2)\n",
    "        else:\n",
    "            _a = ( np.subtract(data[i+t],(data[i]))  ) \n",
    "        \n",
    "        #_a = (2*_a)/ t\n",
    "        arr.append(_a)\n",
    "    return arr\n",
    "\n",
    "def restore_a(y_price,a):\n",
    "    \n",
    "    #_a = 2*(data[i] - data[i-1]) / t**2\n",
    "    #_a * t**2 = 2*(data[i] - data[i-1])\n",
    "    \n",
    "    #(_a * t/2) + data[i-1] = data[i]\n",
    "    \n",
    "    t_price = (a * (t**2) )/2 + y_price \n",
    "    \n",
    "    return t_price\n",
    "\n",
    "Price_a = cal_a(Price,t)\n",
    "\n",
    "plt.plot(Price_a)\n",
    "plt.ylabel('a')\n",
    "plt.show()\n",
    "\n",
    "print(Price_a[37],Price_a[38])\n",
    "store_price_a = np.array(Price_a)\n",
    "print(t,'Price_a len',len(Price_a))"
   ]
  },
  {
   "cell_type": "code",
   "execution_count": 17,
   "metadata": {},
   "outputs": [
    {
     "name": "stdout",
     "output_type": "stream",
     "text": [
      "-0.15199999999999989 60.8 62.5\n"
     ]
    }
   ],
   "source": [
    "#Price_a[38] = 第38天預測43天的資料\n",
    "\n",
    "Price[43],Price[38]\n",
    "_a = 2*( np.subtract(Price[42],Price[37])  ) / (t**2)\n",
    "print(_a,Price[43],Price[38])"
   ]
  },
  {
   "cell_type": "markdown",
   "metadata": {},
   "source": [
    "'## DeExtremeValue"
   ]
  },
  {
   "cell_type": "code",
   "execution_count": 18,
   "metadata": {},
   "outputs": [],
   "source": [
    "\n",
    "\n",
    "def DeNormalization_a(a,Price_a_min,Price_a_max):\n",
    "    a = np.float32(a)\n",
    "    assert np.ndim(a) == 0\n",
    "    #a = _a - Price_a_min /(Price_a_max - Price_a_min)\n",
    "    #_a = (Price_a_max - Price_a_min) * a+ Price_a_min\n",
    "    _a = np.subtract(Price_a_max,Price_a_min)\n",
    "    _a = np.multiply(_a,a)\n",
    "    _a = np.add(_a,Price_a_min)\n",
    "    \n",
    "    \n",
    "    return _a\n",
    "\n",
    "\n",
    "\n",
    "def DeExtremeValue(data):\n",
    "    data_mean = np.mean(data)\n",
    "    data_std = np.std(data)\n",
    "    data_min = data_mean - 2*data_std\n",
    "    data_max = data_mean + 2*data_std\n",
    "    new_arr = []\n",
    "    for p in data:\n",
    "        _p = p\n",
    "\n",
    "        if p> data_max:\n",
    "            _p = data_max\n",
    "        elif p< data_min:\n",
    "            _p = data_min\n",
    "        new_arr.append(_p)\n",
    "    return new_arr,data_min,data_max\n",
    "\n"
   ]
  },
  {
   "cell_type": "code",
   "execution_count": 19,
   "metadata": {},
   "outputs": [
    {
     "name": "stdout",
     "output_type": "stream",
     "text": [
      "2832 2827 2831 2831 2832\n"
     ]
    }
   ],
   "source": [
    "print(len(Price),len(Price_a),len(Nor_Price),len(Nor_Quantity),len(issued_shares))"
   ]
  },
  {
   "cell_type": "markdown",
   "metadata": {},
   "source": [
    "## Normalization"
   ]
  },
  {
   "cell_type": "code",
   "execution_count": 20,
   "metadata": {},
   "outputs": [],
   "source": [
    "asdasd = 0\n",
    "assert np.ndim(asdasd) == 0"
   ]
  },
  {
   "cell_type": "code",
   "execution_count": 21,
   "metadata": {},
   "outputs": [],
   "source": [
    "#產生值\n",
    "if t >1:\n",
    "    TaxValue =np.multiply(Price[1:-t],Quantity[1:-t])\n",
    "    TaxValue = TaxValue.tolist()\n",
    "else:\n",
    "    TaxValue =np.multiply(Price[1:],Quantity[1:])\n",
    "    TaxValue = TaxValue.tolist()\n",
    "\n",
    "#做完正規化後的Price少一天 故此\n",
    "\n",
    "MarketValue =np.multiply(Price[1:],issued_shares[1:])\n",
    "MarketValue = MarketValue.tolist()\n",
    "\n",
    "issued_shares = issued_shares[1:]\n",
    "\n",
    "\n",
    "Price_a = Price_a[1:]\n",
    "dates = dates[1:]"
   ]
  },
  {
   "cell_type": "code",
   "execution_count": null,
   "metadata": {},
   "outputs": [],
   "source": []
  },
  {
   "cell_type": "code",
   "execution_count": 22,
   "metadata": {},
   "outputs": [
    {
     "name": "stdout",
     "output_type": "stream",
     "text": [
      "2826 2826\n",
      "2796 2796 2826 2796\n"
     ]
    }
   ],
   "source": [
    "\"\"\"\n",
    "正常股票 0 ~ \n",
    "正規化   1 ~ \n",
    "五天後   6 7 8 .... END\n",
    "\n",
    "\n",
    "\"\"\"\n",
    "\n",
    "if t >1:\n",
    "    #少了ˊ幾天可以預測\n",
    "    Nor_Price = Nor_Price[:(-t)]\n",
    "    Nor_Quantity = Nor_Quantity[:(-t)]\n",
    "    issued_shares = issued_shares[:(-t)]\n",
    "    MarketValue = MarketValue[:(-t)]\n",
    "    dates = dates[:(-t)]\n",
    "    \n",
    "print(len(Price_a) , len(Nor_Price) )\n",
    "\n",
    "#assert(len(Price_a) == len(Nor_Price))\n",
    "\n",
    "\n",
    "\"\"\"\n",
    "需要前 N 天的資料才能預測，故刪除不到N天的資料\n",
    "\"\"\"\n",
    "\n",
    "\n",
    "Predict_n_day = OUTPUT_SIZE\n",
    "\n",
    "Price_a = Price_a[Predict_n_day:]\n",
    "#MarketValue 由第二天價格 * 發行數量所得\n",
    "#需要最後預測的市值\n",
    "\n",
    "MarketValue = MarketValue[(Predict_n_day-1):-1]\n",
    "TaxValue = TaxValue[(Predict_n_day-1):-1]\n",
    "dates = dates[:-OUTPUT_SIZE]\n",
    "# TaxValue = TaxValue[Predict_n_day:]\n",
    "#Price = SlidingWindow(Price,INPUT_SIZE)\n",
    "#Quantity = SlidingWindow(Quantity,INPUT_SIZE)\n",
    "\n",
    "\n",
    "\n",
    "\n",
    "#Price_a= SlidingWindow(Price_a,INPUT_SIZE)\n",
    "#test_Price_a= SlidingWindow(test_Price_a,INPUT_SIZE)\n",
    "\n",
    "print(len(MarketValue),len(Price_a),len(Nor_Price),len(dates) )"
   ]
  },
  {
   "cell_type": "code",
   "execution_count": 23,
   "metadata": {},
   "outputs": [
    {
     "name": "stdout",
     "output_type": "stream",
     "text": [
      "2796 2826 2796\n"
     ]
    }
   ],
   "source": [
    "print(len(Price_a),len(Nor_Price),len(MarketValue))"
   ]
  },
  {
   "cell_type": "code",
   "execution_count": 24,
   "metadata": {},
   "outputs": [],
   "source": [
    "#取正負 方便以後預測\n",
    "#positve_a_index = [index for index,f in  enumerate( Price_a) if f >=0]\n",
    "#negative_a_index = [index for index,f in  enumerate( Price_a) if f <0]\n",
    "\n",
    "oringinal_Price_a = np.array(Price_a).tolist()"
   ]
  },
  {
   "cell_type": "code",
   "execution_count": null,
   "metadata": {},
   "outputs": [],
   "source": []
  },
  {
   "cell_type": "code",
   "execution_count": 25,
   "metadata": {},
   "outputs": [
    {
     "name": "stdout",
     "output_type": "stream",
     "text": [
      "1651273687.5\n"
     ]
    },
    {
     "data": {
      "image/png": "[encoded data removed]",
      "text/plain": [
       "<Figure size 432x288 with 1 Axes>"
      ]
     },
     "metadata": {},
     "output_type": "display_data"
    },
    {
     "data": {
      "image/png": "[encoded data removed]",
      "text/plain": [
       "<Figure size 432x288 with 1 Axes>"
      ]
     },
     "metadata": {},
     "output_type": "display_data"
    }
   ],
   "source": [
    "#正規化區域\n",
    "\n",
    "Nor_Price = MinMaxNormalization(Nor_Price)\n",
    "Nor_Price = [ (f-adjust_price_quantity)*2  for f in Nor_Price]\n",
    "\n",
    "Nor_Quantity = MinMaxNormalization(Nor_Quantity)\n",
    "Nor_Quantity = [(f- adjust_price_quantity)*2 for f in Nor_Quantity]\n",
    "\n",
    "\n",
    "\n",
    "#Price_a,Price_a_min,Price_a_max = DeExtremeValue(Price_a)\n",
    "\n",
    "\n",
    "Price_a_max = np.max(Price_a)\n",
    "Price_a_min = np.min(Price_a)\n",
    "\n",
    "if a_Normalization:\n",
    "    Price_a = MinMaxNormalization(Price_a)\n",
    "\n",
    "#issued_shares = MinMaxNormalization(issued_shares)\n",
    "#Price_a,_,_ = DeExtremeValue(Price_a)\n",
    "assert len(Nor_Price) == len(issued_shares)\n",
    "#Price = MinMaxNormalization(Price)\n",
    "\n",
    "\n",
    "TaxValue = [ f*0.03 for f in TaxValue]\n",
    "TaxValue = MinMaxNormalization(TaxValue)\n",
    "\n",
    "print(MarketValue[0])\n",
    "plt.plot(MarketValue)\n",
    "plt.ylabel('MarketValue')\n",
    "plt.show()\n",
    "\n",
    "MarketValue = MinMaxNormalization(MarketValue)\n",
    "MarketValue = [ (f+1)/2 for f in MarketValue]\n",
    "\n",
    "plt.plot(Price_a)\n",
    "plt.ylabel('a')\n",
    "plt.show()\n",
    "\n"
   ]
  },
  {
   "cell_type": "code",
   "execution_count": 26,
   "metadata": {},
   "outputs": [
    {
     "data": {
      "text/plain": [
       "0.549514563106796"
      ]
     },
     "execution_count": 26,
     "metadata": {},
     "output_type": "execute_result"
    }
   ],
   "source": [
    "Price_a[0]"
   ]
  },
  {
   "cell_type": "code",
   "execution_count": 27,
   "metadata": {},
   "outputs": [],
   "source": [
    "#assert len(Nor_Price) == len(Nor_Quantity) == len(MarketValue)== len(Price_a)==len(issued_shares)==len(TaxValue)\n"
   ]
  },
  {
   "cell_type": "code",
   "execution_count": 28,
   "metadata": {},
   "outputs": [
    {
     "data": {
      "image/png": "[encoded data removed]",
      "text/plain": [
       "<Figure size 432x288 with 1 Axes>"
      ]
     },
     "metadata": {},
     "output_type": "display_data"
    }
   ],
   "source": [
    "plt.plot(TaxValue)\n",
    "plt.ylabel('TaxValue')\n",
    "plt.show()\n",
    "#MarketValue = [f+0.1 for f in MarketValue]"
   ]
  },
  {
   "cell_type": "code",
   "execution_count": 29,
   "metadata": {},
   "outputs": [
    {
     "data": {
      "image/png": "[encoded data removed]",
      "text/plain": [
       "<Figure size 432x288 with 1 Axes>"
      ]
     },
     "metadata": {},
     "output_type": "display_data"
    }
   ],
   "source": [
    "plt.plot(MarketValue)\n",
    "plt.ylabel('MarketValue')\n",
    "plt.show()\n",
    "#MarketValue = [f+0.1 for f in MarketValue]"
   ]
  },
  {
   "cell_type": "code",
   "execution_count": 30,
   "metadata": {},
   "outputs": [
    {
     "name": "stdout",
     "output_type": "stream",
     "text": [
      "2796 2826 2826 2796\n"
     ]
    }
   ],
   "source": [
    "print(len(Price_a),len(Nor_Price),len(Nor_Quantity),len(MarketValue))"
   ]
  },
  {
   "cell_type": "code",
   "execution_count": null,
   "metadata": {},
   "outputs": [],
   "source": []
  },
  {
   "cell_type": "code",
   "execution_count": 31,
   "metadata": {},
   "outputs": [
    {
     "name": "stdout",
     "output_type": "stream",
     "text": [
      "2796 2826 2826\n"
     ]
    },
    {
     "data": {
      "image/png": "[encoded data removed]",
      "text/plain": [
       "<Figure size 432x288 with 1 Axes>"
      ]
     },
     "metadata": {},
     "output_type": "display_data"
    },
    {
     "data": {
      "image/png": "[encoded data removed]",
      "text/plain": [
       "<Figure size 432x288 with 1 Axes>"
      ]
     },
     "metadata": {},
     "output_type": "display_data"
    },
    {
     "data": {
      "image/png": "[encoded data removed]",
      "text/plain": [
       "<Figure size 432x288 with 1 Axes>"
      ]
     },
     "metadata": {},
     "output_type": "display_data"
    },
    {
     "data": {
      "image/png": "[encoded data removed]",
      "text/plain": [
       "<Figure size 432x288 with 1 Axes>"
      ]
     },
     "metadata": {},
     "output_type": "display_data"
    },
    {
     "data": {
      "image/png": "[encoded data removed]",
      "text/plain": [
       "<Figure size 432x288 with 1 Axes>"
      ]
     },
     "metadata": {},
     "output_type": "display_data"
    }
   ],
   "source": [
    "print(len(Price_a),len(Nor_Price),len(Nor_Quantity))\n",
    "\n",
    "plt.plot(Price_a)\n",
    "plt.ylabel('a')\n",
    "plt.show()\n",
    "\n",
    "plt.plot(Nor_Price)\n",
    "plt.ylabel('Nor_Price')\n",
    "plt.show()\n",
    "\n",
    "plt.plot(Nor_Quantity)\n",
    "plt.ylabel('Nor_Quantity')\n",
    "plt.show()\n",
    "\n",
    "plt.plot(Price)\n",
    "plt.ylabel('Price')\n",
    "plt.show()\n",
    "\n",
    "\n",
    "plt.plot(issued_shares)\n",
    "plt.ylabel('issued_shares')\n",
    "plt.show()\n",
    "\n"
   ]
  },
  {
   "cell_type": "code",
   "execution_count": 32,
   "metadata": {},
   "outputs": [
    {
     "data": {
      "text/plain": [
       "2826"
      ]
     },
     "execution_count": 32,
     "metadata": {},
     "output_type": "execute_result"
    }
   ],
   "source": [
    "len(issued_shares)\n",
    "#正規化後少一天\n",
    "#issued_shares = issued_shares[1:]"
   ]
  },
  {
   "cell_type": "code",
   "execution_count": 33,
   "metadata": {},
   "outputs": [
    {
     "data": {
      "text/plain": [
       "2796"
      ]
     },
     "execution_count": 33,
     "metadata": {},
     "output_type": "execute_result"
    }
   ],
   "source": [
    "len(Price_a)"
   ]
  },
  {
   "cell_type": "code",
   "execution_count": null,
   "metadata": {},
   "outputs": [],
   "source": [
    "\n"
   ]
  },
  {
   "cell_type": "code",
   "execution_count": null,
   "metadata": {},
   "outputs": [],
   "source": [
    "\n"
   ]
  },
  {
   "cell_type": "code",
   "execution_count": 34,
   "metadata": {},
   "outputs": [
    {
     "name": "stdout",
     "output_type": "stream",
     "text": [
      "2796 2826\n"
     ]
    }
   ],
   "source": [
    "print(len(Price_a) , len(Nor_Price) )"
   ]
  },
  {
   "cell_type": "code",
   "execution_count": null,
   "metadata": {},
   "outputs": [],
   "source": []
  },
  {
   "cell_type": "code",
   "execution_count": null,
   "metadata": {},
   "outputs": [],
   "source": []
  },
  {
   "cell_type": "code",
   "execution_count": null,
   "metadata": {},
   "outputs": [],
   "source": []
  },
  {
   "cell_type": "code",
   "execution_count": 35,
   "metadata": {},
   "outputs": [],
   "source": [
    "Price_a  = [[f] for f in Price_a]\n",
    "MarketValue = [[f] for f in MarketValue]\n",
    "TaxValue =[[f] for f in TaxValue]\n",
    "\n"
   ]
  },
  {
   "cell_type": "code",
   "execution_count": 36,
   "metadata": {},
   "outputs": [],
   "source": [
    "Nor_Quantity = SlidingWindow(Nor_Quantity,INPUT_SIZE)\n",
    "#test_nor_Quantity = SlidingWindow(test_nor_Quantity,INPUT_SIZE)\n",
    "\n",
    "Nor_Price = SlidingWindow(Nor_Price,INPUT_SIZE)\n",
    "#test_nor_Price = SlidingWindow(test_nor_Price,INPUT_SIZE)\n",
    "\n",
    "issued_shares = SlidingWindow(issued_shares,INPUT_SIZE)\n"
   ]
  },
  {
   "cell_type": "code",
   "execution_count": 37,
   "metadata": {},
   "outputs": [
    {
     "name": "stdout",
     "output_type": "stream",
     "text": [
      "2796 2796 2796 2796 2796 2796\n"
     ]
    }
   ],
   "source": [
    "print(len(Nor_Price) , len(Nor_Quantity) , len(MarketValue), len(Price_a),len(issued_shares),len(TaxValue))\n",
    "#assert len(Nor_Price) == len(Nor_Quantity) == len(MarketValue)== len(Price_a)==len(issued_shares)==len(TaxValue)\n",
    "\n",
    "# choic_tunnel_indice = np.random.choice((len(Nor_Quantity)),3,replace=False)\n",
    "# print(choic_tunnel_indice)\n",
    "# original_len = len(Nor_Price)\n",
    "\n",
    "# def slice_tunnel(data,indices):\n",
    "#     original_data = np.array(data).tolist()\n",
    "#     data = np.array(data).tolist()\n",
    "#     tunnel_datas = []\n",
    "    \n",
    "#     tunnel_len = 0\n",
    "#     for i in range(len(indices)):\n",
    "#         index = indices[i]\n",
    "        \n",
    "#         tunnnel_data = data[index:index+30]\n",
    "#         tunnel_len+=len(tunnnel_data)\n",
    "#         print(len(tunnnel_data))\n",
    "#         tunnel_datas.append(tunnnel_data)\n",
    "        \n",
    "#     data = [f for index,f in enumerate(original_data) if index not in range(indices[0],indices[0]+30) and index not in range(indices[1],indices[1]+30) and index not in range(indices[2],indices[2]+30)]\n",
    "#     print(len(data),len(original_data))\n",
    "#     assert tunnel_len + len(data) == len(original_data)\n",
    "    \n",
    "    \n",
    "#     return tunnel_datas,data\n",
    "# tunnel_Nor_Price,Nor_Price = slice_tunnel(Nor_Price,choic_tunnel_indice)\n",
    "# tunnel_Nor_Quantity,Nor_Quantity = slice_tunnel(Nor_Quantity,choic_tunnel_indice)\n",
    "# tunnel_MarketValue,MarketValue = slice_tunnel(MarketValue,choic_tunnel_indice)\n",
    "# tunnel_Price_a,Price_a = slice_tunnel(Price_a,choic_tunnel_indice)\n",
    "# tunnel_issued_shares,issued_shares = slice_tunnel(issued_shares,choic_tunnel_indice)\n",
    "# tunnel_TaxValue,TaxValue = slice_tunnel(TaxValue,choic_tunnel_indice)\n",
    "# #取正負 方便以後預測\n",
    "# #positve_a_index = [index for index,f in  enumerate( Price_a) if f >=0]\n",
    "# #negative_a_index = [index for index,f in  enumerate( Price_a) if f <0]\n",
    "\n",
    "# _,oringinal_Price_a  = slice_tunnel(oringinal_Price_a,choic_tunnel_indice)\n",
    "# oringinal_Price_a = np.array(oringinal_Price_a)\n",
    "# oringinal_Price_a = np.reshape(oringinal_Price_a,[-1])\n",
    "# oringinal_Price_a = oringinal_Price_a.tolist()\n",
    "\n",
    "# positve_a_index = [index for index,f in  enumerate( oringinal_Price_a) if f >=0]\n",
    "# negative_a_index = [index for index,f in  enumerate( oringinal_Price_a) if f <0]\n",
    "# print(len(positve_a_index) , len(negative_a_index) , len(Nor_Price))\n",
    "# assert len(positve_a_index) + len(negative_a_index) == len(Nor_Price)"
   ]
  },
  {
   "cell_type": "code",
   "execution_count": null,
   "metadata": {},
   "outputs": [],
   "source": []
  },
  {
   "cell_type": "code",
   "execution_count": 38,
   "metadata": {},
   "outputs": [
    {
     "data": {
      "text/plain": [
       "(2796, 30)"
      ]
     },
     "execution_count": 38,
     "metadata": {},
     "output_type": "execute_result"
    }
   ],
   "source": [
    "np.array(issued_shares).shape"
   ]
  },
  {
   "cell_type": "markdown",
   "metadata": {},
   "source": [
    "' ## Slice Data"
   ]
  },
  {
   "cell_type": "code",
   "execution_count": 39,
   "metadata": {},
   "outputs": [
    {
     "data": {
      "text/plain": [
       "[0.549514563106796]"
      ]
     },
     "execution_count": 39,
     "metadata": {},
     "output_type": "execute_result"
    }
   ],
   "source": [
    "Price_a[0]"
   ]
  },
  {
   "cell_type": "code",
   "execution_count": null,
   "metadata": {},
   "outputs": [],
   "source": []
  },
  {
   "cell_type": "code",
   "execution_count": null,
   "metadata": {},
   "outputs": [],
   "source": []
  },
  {
   "cell_type": "markdown",
   "metadata": {},
   "source": [
    "## Build CNN layers"
   ]
  },
  {
   "cell_type": "code",
   "execution_count": 40,
   "metadata": {},
   "outputs": [],
   "source": [
    "def build_resnet_block(inputres, dim, name=\"resnet\", padding=\"REFLECT\"):\n",
    "    \"\"\"build a single block of resnet.\n",
    "    :param inputres: inputres\n",
    "    :param dim: dim\n",
    "    :param name: name\n",
    "    :param padding: for tensorflow version use REFLECT; for pytorch version use\n",
    "     CONSTANT\n",
    "    :return: a single block of resnet.\n",
    "    \"\"\"\n",
    "    with tf.variable_scope(name):\n",
    "        out_res = tf.pad(inputres, [[0, 0], [1, 1], [\n",
    "            1, 1], [0, 0]], padding)\n",
    "        out_res =general_conv2d(\n",
    "            out_res, dim, 3, 3, 1, 1, 0.02, \"VALID\", \"c1\")\n",
    "        out_res = tf.pad(out_res, [[0, 0], [1, 1], [1, 1], [0, 0]], padding)\n",
    "        out_res = general_conv2d(\n",
    "            out_res, dim, 3, 3, 1, 1, 0.02, \"VALID\", \"c2\", do_relu=False)\n",
    "\n",
    "        return tf.nn.relu(out_res + inputres)\n",
    "def highway(inputs,inputm, size, activation, carry_bias=-1.0):\n",
    "    \n",
    "    W_T = tf.Variable(tf.truncated_normal([size, size], stddev=0.1), name=\"weight_transform\")\n",
    "    b_T = tf.Variable(tf.constant(carry_bias, shape=[size]), name=\"bias_transform\")\n",
    "\n",
    "    W = tf.Variable(tf.truncated_normal([size, size], stddev=0.1), name=\"weight\")\n",
    "    b = tf.Variable(tf.constant(0.1, shape=[size]), name=\"bias\")\n",
    "\n",
    "    T = tf.sigmoid(tf.matmul(x, W_T) + b_T, name=\"transform_gate\")\n",
    "    H = activation(tf.matmul(x, W) + b, name=\"activation\")\n",
    "    C = tf.sub(1.0, T, name=\"carry_gate\")\n",
    "\n",
    "    y = tf.add(tf.mul(H, T), tf.mul(x, C), \"y\")\n",
    "    \n",
    "    return y\n",
    "\n",
    "    \n",
    "def lrelu(x, leak=0.2, name=\"lrelu\", alt_relu_impl=False):\n",
    "\n",
    "    with tf.variable_scope(name):\n",
    "        if alt_relu_impl:\n",
    "            f1 = 0.5 * (1 + leak)\n",
    "            f2 = 0.5 * (1 - leak)\n",
    "            return f1 * x + f2 * abs(x)\n",
    "        else:\n",
    "            return tf.maximum(x, leak * x)\n",
    "\n",
    "\n",
    "def instance_norm(x):\n",
    "    #樣本內標準化\n",
    "    with tf.variable_scope(\"instance_norm\"):\n",
    "        epsilon = 1e-5\n",
    "        mean, var = tf.nn.moments(x, [1, 2], keep_dims=True)\n",
    "        scale = tf.get_variable('scale', [x.get_shape()[-1]],\n",
    "                                initializer=tf.truncated_normal_initializer(\n",
    "                                    mean=1.0, stddev=0.02\n",
    "        ))\n",
    "        offset = tf.get_variable(\n",
    "            'offset', [x.get_shape()[-1]],\n",
    "            initializer=tf.constant_initializer(0.0)\n",
    "        )\n",
    "        out = scale * tf.div(x - mean, tf.sqrt(var + epsilon)) + offset\n",
    "\n",
    "        return out\n",
    "    \n",
    "def general_conv2d(inputconv, o_d=64, f_h=7, f_w=7, s_h=1, s_w=1, stddev=0.02,\n",
    "                   padding=\"VALID\", name=\"conv2d\", do_norm=True, do_relu=True,\n",
    "                   relufactor=0):\n",
    "    with tf.variable_scope(name):\n",
    "        \n",
    "        conv = tf.contrib.layers.conv2d(\n",
    "            inputconv, #input\n",
    "            o_d, #num_outputs\n",
    "            f_w, #kernel_size\n",
    "            s_w, #stride=1\n",
    "            padding,#padding='SAME'\n",
    "            activation_fn=None,\n",
    "            weights_initializer=tf.truncated_normal_initializer(\n",
    "                stddev=stddev\n",
    "            ),\n",
    "            biases_initializer=tf.constant_initializer(0.0)\n",
    "        )\n",
    "        if do_norm:\n",
    "            conv = instance_norm(conv)\n",
    "\n",
    "        if do_relu:\n",
    "            if(relufactor == 0):\n",
    "                conv = tf.nn.relu(conv, \"relu\")\n",
    "            else:\n",
    "                conv = lrelu(conv, relufactor, \"lrelu\")\n",
    "\n",
    "        return conv\n",
    "\n",
    "\n",
    "def general_deconv2d(inputconv\n",
    "                     , o_d=100\n",
    "                     , f_h=1\n",
    "                     , f_w=3\n",
    "                     , s_h=1\n",
    "                     , s_w=1,\n",
    "                     stddev=0.02\n",
    "                     , padding=\"VALID\"\n",
    "                     , name=\"deconv2d\",\n",
    "                      do_relu=True, relufactor=0):\n",
    "    \"\"\"\n",
    "    inputs,\n",
    "    num_outputs,\n",
    "    kernel_size,\n",
    "    stride=1,\n",
    "    padding='SAME',\n",
    "    \"\"\"\n",
    "    with tf.variable_scope(name):\n",
    "\n",
    "        conv = tf.contrib.layers.conv2d_transpose(\n",
    "            inputconv\n",
    "            ,o_d\n",
    "            ,[f_h, f_w],\n",
    "            [s_h, s_w]\n",
    "            , padding\n",
    "            ,activation_fn=None\n",
    "            ,weights_initializer=tf.truncated_normal_initializer(stddev=stddev)\n",
    "            ,biases_initializer=tf.constant_initializer(0.0)\n",
    "        )\n",
    "\n",
    "       \n",
    "\n",
    "        if do_relu:\n",
    "            if(relufactor == 0):\n",
    "                conv = tf.nn.relu(conv, \"relu\")\n",
    "            else:\n",
    "                conv = lrelu(conv, relufactor, \"lrelu\")\n",
    "\n",
    "        return conv"
   ]
  },
  {
   "cell_type": "code",
   "execution_count": null,
   "metadata": {},
   "outputs": [],
   "source": []
  },
  {
   "cell_type": "code",
   "execution_count": 41,
   "metadata": {},
   "outputs": [],
   "source": [
    "\n",
    "max_time = 2# 0&1\n",
    "\n",
    "def discriminator_tf(inputdisc, name=\"discriminator\",reuse=False):\n",
    "    with tf.variable_scope(name,reuse=reuse):\n",
    "        f = 4\n",
    "        \n",
    "        o_c1 = general_conv2d(inputdisc, OUTPUT_SIZE, f, f, 2, 2,\n",
    "                                     0.02, \"SAME\", \"c1\", do_norm=False,\n",
    "                                     relufactor=0.2)\n",
    "        o_c2 = general_conv2d(o_c1, ndf * 2, f, f, 2, 2,\n",
    "                                     0.02, \"SAME\", \"c2\", relufactor=0.2)\n",
    "        \n",
    "        o_c3 = general_conv2d(o_c2, ndf * 4, f, f, 2, 2,\n",
    "                                     0.02, \"SAME\", \"c3\", relufactor=0.2)\n",
    "        o_c4 =general_conv2d(o_c3, ndf * 8, f, f, 1, 1,\n",
    "                                     0.02, \"SAME\", \"c4\", relufactor=0.2)\n",
    "        o_c5 = general_conv2d(\n",
    "            o_c4, 1, f, f, 1, 1, 0.02,\n",
    "            \"SAME\", \"c5\", do_norm=False, do_relu=False\n",
    "        )\n",
    "        ##一般CNN\n",
    "        ## 64\n",
    "        ## 128\n",
    "        ## 256\n",
    "        ## 512\n",
    "        ## 1\n",
    "        return o_c5\n",
    "    \n",
    "\n",
    "def Generator(input,name='Generator',reuse=False):\n",
    "    G_l1 = tf.layers.dense(input, 128,name =name+'_GL1',reuse=reuse,use_bias=True)\n",
    "    G_l2 = tf.layers.dense(G_l1, 256,name = name+'_GL2',reuse=reuse,use_bias=True)\n",
    "    G_l3 = tf.layers.dense(G_l2, 512,name = name+'_GL3',reuse=reuse,use_bias=True)\n",
    "    G_out = tf.layers.dense(G_l3, OUTPUT_SIZE,tf.nn.sigmoid,name = name+'_Gout',reuse=reuse,use_bias=True)\n",
    "    return G_out\n",
    "def Discriminator(input,name='Discriminator',reuse=False):\n",
    "    \n",
    "    D_l = tf.layers.dense(input, 128, name=name+'_DL1',reuse=reuse,use_bias=True)\n",
    "    D_l= tf.layers.dense(D_l, 256,tf.nn.relu, name=name+'_DL2',reuse=reuse,use_bias=True)\n",
    "    D_l = tf.layers.dense(D_l, 512, name=name+'_DL3',reuse=reuse,use_bias=True)\n",
    "    \n",
    "    D_l = tf.layers.dense(D_l, 1, tf.nn.sigmoid, name=name+'_DOUT',reuse=reuse,use_bias=True)\n",
    "    return D_l\n",
    "\n",
    "Batch_shape = -1\n",
    "\n",
    "def Discriminator_cnn(input,name='Discriminator_cnn',reuse=False,_OUTPUT_SIZE=OUTPUT_SIZE):\n",
    "    with tf.variable_scope(name,reuse=reuse):\n",
    "        f = ( math.sqrt(OUTPUT_SIZE) )\n",
    "        if float(int(f)) != f:\n",
    "            print('not square shape')\n",
    "            f2 = (int(f)+1) * (int(f)+1)\n",
    "            print(f,int(f),f2)\n",
    "            f3 = f2 - OUTPUT_SIZE\n",
    "            paddings = tf.constant([[0,0], [0,f3]])\n",
    "            input = tf.pad(input,paddings,\"CONSTANT\")\n",
    "            f = int(math.sqrt(f2) )\n",
    "        f = int((f ) )\n",
    "        print('f,OUTPUT_SIZE',f,OUTPUT_SIZE)\n",
    "        ndf = _OUTPUT_SIZE\n",
    "       \n",
    "        input = tf.reshape(input,[Batch_shape,f,f,1],name='Discriminator_reshape')\n",
    "\n",
    "        o_c1 = general_conv2d(input, ndf, f, f, 2, 2,\n",
    "                                             0.02, \"SAME\", \"c1\", do_norm=False,\n",
    "                                             relufactor=0.2)\n",
    "        o_c2 = general_conv2d(o_c1, ndf * 2, f, f, 2, 2,\n",
    "                                             0.02, \"SAME\", \"c2\", relufactor=0.2)\n",
    "        o_c3 = general_conv2d(o_c2, ndf * 4, f, f, 2, 2,\n",
    "                                             0.02, \"SAME\", \"c3\", relufactor=0.2)\n",
    "        o_c4 =general_conv2d(o_c3, ndf * 8, f, f, 1, 1,\n",
    "                                             0.02, \"SAME\", \"c4\", relufactor=0.2)\n",
    "        o_c5 = general_conv2d(\n",
    "                    o_c4, 1, f, f, 1, 1, 0.02,\n",
    "                    \"SAME\", \"c5\", do_norm=False, do_relu=False)\n",
    "\n",
    "        o_c6 = tf.reshape(o_c5,[Batch_shape,1])    \n",
    "        return o_c6\n",
    "\n",
    "def Generator_lstm(input,name='Generator_lstm',reuse=False):\n",
    "    #24,5\n",
    "    \n",
    "    input = tf.reshape(input,[Batch_shape,OUTPUT_SIZE,1],name='Generator_reshape')\n",
    "    #[1,120]\n",
    "    INPUT_HIDDEN_SIZE = 64\n",
    " \n",
    "    #print('BEFORE LSTM',input.shape)\n",
    "     # X_in ==> (128 batches, 28 steps, 128 hidden) 换回3维\n",
    "    hidden_size = 64\n",
    "    keep_prob =0.8\n",
    "    \n",
    "    num_units = [hidden_size for _ in range(0,OUTPUT_SIZE)]\n",
    "    \n",
    "    cells = [tf.nn.rnn_cell.BasicLSTMCell(num_units=n,forget_bias=0.8,name=name+'%d'%n,reuse=reuse,state_is_tuple=True) for n in num_units]\n",
    "    stacked_rnn_cell = tf.nn.rnn_cell.MultiRNNCell(cells)\n",
    "    init_state = stacked_rnn_cell.zero_state(BATCH_SIZE, dtype=tf.float32)\n",
    "    outputs, final_state  = tf.nn.dynamic_rnn(stacked_rnn_cell, inputs=input, initial_state=init_state, time_major=False)\n",
    "    \n",
    "    outputs = tf.unstack(tf.transpose(outputs, [1,0,2]))\n",
    "        \n",
    "    print(outputs[-1])\n",
    "        \n",
    "    results = tf.layers.dense(outputs[-1], OUTPUT_SIZE,reuse=reuse,use_bias=True,activation=None)\n",
    "    \n",
    "    return results\n",
    "\n",
    "def Generator_resnet(input, name=\"generator\",reuse=False,resnet_num = 9):\n",
    "    \n",
    "    with tf.variable_scope(name,reuse=reuse):\n",
    "        f = ( math.sqrt(OUTPUT_SIZE) )\n",
    "        if float(int(f)) != f:\n",
    "            print('not square shape')\n",
    "            f2 = (int(f)+1) * (int(f)+1)\n",
    "            print(f,int(f),f2)\n",
    "            f3 = f2 - OUTPUT_SIZE\n",
    "            paddings = tf.constant([[0,0], [0,f3]])\n",
    "            input = tf.pad(input,paddings,\"CONSTANT\")\n",
    "            f = (math.sqrt(f2) )\n",
    "        print('f,OUTPUT_SIZE',f,OUTPUT_SIZE)\n",
    "        f = ( int(f) )\n",
    "        ngf = OUTPUT_SIZE*2\n",
    "        \n",
    "        input = tf.reshape(input,[Batch_shape,f,f,1],name='Generator_reshape')\n",
    "        \n",
    "        ks = 3\n",
    "        padding = \"REFLECT\"\n",
    "        \n",
    "        pad_input = tf.pad(input, [[0, 0], [ks, ks], [\n",
    "            ks, ks], [0, 0]], padding)\n",
    "        o_c1 = general_conv2d(\n",
    "            pad_input, ngf, f, f, 1, 1, 0.02, name=\"c1\")\n",
    "        o_c2 = general_conv2d(\n",
    "            o_c1, ngf * 2, ks, ks, 2, 2, 0.02, \"SAME\", \"c2\")\n",
    "        o_c3 = general_conv2d(\n",
    "            o_c2, ngf * 4, ks, ks, 2, 2, 0.02, \"SAME\", \"c3\")\n",
    "        ###32\n",
    "        ###64\n",
    "        ###128\n",
    "        o_r1 = build_resnet_block(o_c3, ngf * 4, \"r1\", padding)\n",
    "        \n",
    "        for i in range(resnet_num-1):\n",
    "            o_r1 = build_resnet_block(o_r1, ngf * 4, \"r%d\"%(i+2), padding)\n",
    "        \"\"\"\n",
    "        [(W−F+2P)/S+1]\n",
    "        w:width \n",
    "        F:Filter size\n",
    "        P:padding (符合 n*n)\n",
    "        S:stride size\n",
    "        \"\"\"\n",
    "        \n",
    "        \"\"\"\n",
    "        inputconv\n",
    "        , o_d=100\n",
    "                     , f_h=1\n",
    "                     , f_w=3\n",
    "                     , s_h=1\n",
    "                     , s_w=1,\n",
    "                     stddev=0.02\n",
    "                     , padding=\"VALID\"\n",
    "                     , name=\"deconv2d\",\n",
    "                      do_relu=True, relufactor=0\n",
    "        \"\"\"\n",
    "        \n",
    "        _BATCH_SIZE,_f,_f,_num = o_r1.shape\n",
    "        o_r1 = tf.reshape(o_r1,[-1,_f*_f*_num])\n",
    "        print(o_r1.shape)\n",
    "        \n",
    "        out_gen = tf.layers.dense(o_r1, OUTPUT_SIZE,reuse=False,use_bias=True,activation=tf.nn.tanh)\n",
    "        \n",
    "        #out_gen = tf.nn.tanh(o_c6, \"t1\")\n",
    "        #tf.layers.dense(Encoder, 1,reuse=False,use_bias=True,activation=tf.nn.tanh)\n",
    "        #out_gen = tf.reshape(out_gen,[Batch_shape,OUTPUT_SIZE])\n",
    "        print(out_gen.shape)\n",
    "        return out_gen"
   ]
  },
  {
   "cell_type": "code",
   "execution_count": 42,
   "metadata": {},
   "outputs": [],
   "source": [
    "# 5 => 6\n",
    "#\n",
    "G_price_in = tf.placeholder(tf.float32, [BATCH_SIZE, OUTPUT_SIZE],name='Nor_Price_in')          # random ideas (could from normal distribution)\n",
    "F_quanilty_in = tf.placeholder(tf.float32, [BATCH_SIZE,OUTPUT_SIZE],name='Nor_quanilty_in')   # receive art work from the famous artist\n",
    "\n",
    "price_in = tf.placeholder(tf.float32, [BATCH_SIZE, OUTPUT_SIZE],name='Price_in') \n",
    "quanilty_in = tf.placeholder(tf.float32, [BATCH_SIZE,OUTPUT_SIZE],name='quanilty_in')   # receive art work from the famous artist\n",
    "\n",
    "lr = tf.placeholder(tf.float32,name='lr_in')"
   ]
  },
  {
   "cell_type": "code",
   "execution_count": null,
   "metadata": {},
   "outputs": [],
   "source": []
  },
  {
   "cell_type": "code",
   "execution_count": 43,
   "metadata": {},
   "outputs": [
    {
     "name": "stdout",
     "output_type": "stream",
     "text": [
      "not square shape\n",
      "5.477225575051661 5 36\n",
      "f,OUTPUT_SIZE 6.0 30\n",
      "(100, 960)\n",
      "(100, 30)\n",
      "not square shape\n",
      "5.477225575051661 5 36\n",
      "f,OUTPUT_SIZE 6.0 30\n",
      "(100, 960)\n",
      "(100, 30)\n",
      "not square shape\n",
      "5.477225575051661 5 36\n",
      "f,OUTPUT_SIZE 6.0 30\n",
      "(100, 960)\n",
      "(100, 30)\n",
      "not square shape\n",
      "5.477225575051661 5 36\n",
      "f,OUTPUT_SIZE 6.0 30\n",
      "(100, 960)\n",
      "(100, 30)\n"
     ]
    }
   ],
   "source": [
    "#G : convert price to quanilty\n",
    "\n",
    "# if lstm:\n",
    "#     G_out =  Generator_lstm(G_price_in,name='G_G')\n",
    "#     F_out =  Generator_lstm(F_quanilty_in,name='F_G')\n",
    "\n",
    "#     G_out_F_out = Generator_lstm(G_out,'F_G',reuse=True)\n",
    "#     F_out_G_out = Generator_lstm(F_out,'G_G',reuse=True)  \n",
    "\n",
    "# # else:\n",
    "G_out =  Generator_resnet(G_price_in,name='G_G')\n",
    "F_out =  Generator_resnet(F_quanilty_in,name='F_G')\n",
    "\n",
    "G_out_F_out = Generator_resnet(G_out,'F_G',reuse=True)\n",
    "F_out_G_out = Generator_resnet(F_out,'G_G',reuse=True)  \n",
    "\n"
   ]
  },
  {
   "cell_type": "code",
   "execution_count": 44,
   "metadata": {},
   "outputs": [
    {
     "name": "stdout",
     "output_type": "stream",
     "text": [
      "(100, 30)\n",
      "(100, 30)\n"
     ]
    }
   ],
   "source": [
    "print(G_out.shape)\n",
    "print(G_price_in.shape)"
   ]
  },
  {
   "cell_type": "code",
   "execution_count": 45,
   "metadata": {},
   "outputs": [
    {
     "name": "stdout",
     "output_type": "stream",
     "text": [
      "not square shape\n",
      "5.477225575051661 5 36\n",
      "f,OUTPUT_SIZE 6 30\n",
      "not square shape\n",
      "5.477225575051661 5 36\n",
      "f,OUTPUT_SIZE 6 30\n"
     ]
    }
   ],
   "source": [
    "###resnet\n",
    "Price_real_prob = Discriminator_cnn(G_price_in,name='P_D')\n",
    "Price_fake_prob = Discriminator_cnn(F_out,name='P_D',reuse=True)\n",
    "\n",
    "Quanilty_real_prob = Discriminator(F_quanilty_in,name='Q_D')\n",
    "Quanilty_fake_prob = Discriminator(G_out,name='Q_D',reuse=True)"
   ]
  },
  {
   "cell_type": "code",
   "execution_count": null,
   "metadata": {},
   "outputs": [],
   "source": []
  },
  {
   "cell_type": "code",
   "execution_count": null,
   "metadata": {},
   "outputs": [],
   "source": []
  },
  {
   "cell_type": "code",
   "execution_count": null,
   "metadata": {},
   "outputs": [],
   "source": []
  },
  {
   "cell_type": "code",
   "execution_count": null,
   "metadata": {},
   "outputs": [],
   "source": [
    "\n",
    "\n"
   ]
  },
  {
   "cell_type": "code",
   "execution_count": null,
   "metadata": {},
   "outputs": [],
   "source": []
  },
  {
   "cell_type": "code",
   "execution_count": 46,
   "metadata": {},
   "outputs": [],
   "source": [
    "tvars = tf.trainable_variables()\n",
    "F_G_vars = [var for var in tvars if 'F_G' in var.name]\n",
    "G_G_vars = [var for var in tvars if 'G_G' in var.name]\n",
    "P_D_vars = [var for var in tvars if 'P_D' in var.name]\n",
    "Q_D_vars = [var for var in tvars if 'Q_D' in var.name]\n"
   ]
  },
  {
   "cell_type": "code",
   "execution_count": 47,
   "metadata": {},
   "outputs": [],
   "source": [
    "all_cycle_vars = F_G_vars + G_G_vars + P_D_vars + Q_D_vars "
   ]
  },
  {
   "cell_type": "code",
   "execution_count": null,
   "metadata": {},
   "outputs": [],
   "source": []
  },
  {
   "cell_type": "code",
   "execution_count": 48,
   "metadata": {},
   "outputs": [],
   "source": [
    "###resnet\n",
    "Backward_F1_cycle_loss = tf.reduce_mean( tf.square(( (G_price_in) - (G_out_F_out) ) ) )\n",
    "Foward_G1_cycle_loss =tf.reduce_mean( tf.square(( F_quanilty_in - (F_out_G_out) ) ) )\n",
    "\n",
    "cyc_loss = Backward_F1_cycle_loss + Foward_G1_cycle_loss\n",
    "\n",
    "G_loss = tf.reduce_mean(tf.square(((1-Quanilty_fake_prob))))+3*cyc_loss\n",
    "F_loss = tf.reduce_mean(tf.square((1-Price_fake_prob))) + 3*cyc_loss\n",
    "\n",
    "P_D_loss = tf.square(1-Price_real_prob) + tf.square(Price_fake_prob)\n",
    "Q_D_loss = tf.square(1-Quanilty_real_prob) + tf.square(Quanilty_fake_prob)\n"
   ]
  },
  {
   "cell_type": "code",
   "execution_count": null,
   "metadata": {},
   "outputs": [],
   "source": []
  },
  {
   "cell_type": "code",
   "execution_count": 49,
   "metadata": {},
   "outputs": [],
   "source": [
    "train_F= tf.train.AdamOptimizer(lr).minimize(F_loss, var_list=F_G_vars)\n",
    "train_G = tf.train.AdamOptimizer(lr).minimize(G_loss, var_list=G_G_vars)\n",
    "\n",
    "train_Price_D = tf.train.AdamOptimizer(lr).minimize(P_D_loss, var_list=P_D_vars)\n",
    "train_Quanilty_D = tf.train.AdamOptimizer(lr).minimize(Q_D_loss, var_list=Q_D_vars)\n",
    "\n",
    "train_Generator = [train_F,train_G]\n",
    "train_Discriminator = [train_Price_D,train_Quanilty_D]"
   ]
  },
  {
   "cell_type": "code",
   "execution_count": 50,
   "metadata": {},
   "outputs": [],
   "source": [
    "\n",
    "#前一天漲幅\n",
    "\n",
    "previous_gain_in = G_price_in[:,OUTPUT_SIZE-1]\n",
    "\n",
    "# -7%~ +7%\n",
    "K =   1\n",
    "\n",
    "Reverse_F = K * previous_gain_in\n",
    "\n",
    "\n",
    "m_in = tf.placeholder(dtype=tf.float32,shape=[BATCH_SIZE,1],name='MarketValue_in')#issue_shares_in*price_in\n",
    "\n",
    "\n",
    "\n",
    "a_in = tf.placeholder(dtype=tf.float32,shape=[BATCH_SIZE,1],name='a')\n",
    "\n",
    "tax_in = tf.placeholder(dtype=tf.float32,shape=[BATCH_SIZE,1],name='tax_in')\n",
    "\n",
    "\n",
    "\n"
   ]
  },
  {
   "cell_type": "code",
   "execution_count": null,
   "metadata": {},
   "outputs": [],
   "source": []
  },
  {
   "cell_type": "code",
   "execution_count": null,
   "metadata": {},
   "outputs": [],
   "source": []
  },
  {
   "cell_type": "code",
   "execution_count": 51,
   "metadata": {},
   "outputs": [],
   "source": [
    "\n",
    "Reverse_F = tf.reshape(Reverse_F,[-1,1])\n"
   ]
  },
  {
   "cell_type": "code",
   "execution_count": 52,
   "metadata": {},
   "outputs": [
    {
     "name": "stdout",
     "output_type": "stream",
     "text": [
      "(100, 1)\n",
      "(100, 1)\n"
     ]
    }
   ],
   "source": [
    "\n",
    "s_Friction = tf.Variable(dtype=tf.float32,initial_value =0.05,name='static_Friction')\n",
    "\n",
    "Friction = tax_in\n",
    "\n",
    "\n",
    "#M= tf.reshape(M,[-1,1])\n",
    "print(Friction.shape)\n",
    "print(m_in.shape)\n",
    "\n"
   ]
  },
  {
   "cell_type": "code",
   "execution_count": 53,
   "metadata": {},
   "outputs": [
    {
     "data": {
      "text/plain": [
       "[0.549514563106796]"
      ]
     },
     "execution_count": 53,
     "metadata": {},
     "output_type": "execute_result"
    }
   ],
   "source": [
    "\"\"\"tf.pad\n",
    "paddings:[補充row,補充col],[往左多生幾個],[往右多生幾個]\n",
    "padding = \"REFLECT\" 沒有值就用類似鏡面的方法產生\n",
    "\n",
    "\"\"\"\n",
    "Price_a[0]\n"
   ]
  },
  {
   "cell_type": "code",
   "execution_count": 54,
   "metadata": {},
   "outputs": [],
   "source": [
    "\n",
    "def build_resnet_9blocks_tf2(input, name=\"generator\",reuse=False,resnet_num=10):\n",
    "    \n",
    "    with tf.variable_scope(name,reuse=reuse):\n",
    "        f = int( math.sqrt(OUTPUT_SIZE) )\n",
    "        ngf = 32\n",
    "        #input = tf.reshape(input,[BATCH_SIZE,f,f,1])\n",
    "        \n",
    "        ks = 2\n",
    "        padding = \"REFLECT\"\n",
    "       \n",
    "        #RESHAPE\n",
    "       \n",
    "        o_c1 = general_conv2d(\n",
    "            input, ngf, f, f, 1, 1, 0.02, name=\"c1\")\n",
    "        o_c2 = general_conv2d(\n",
    "            o_c1, ngf * 2, ks, ks, 1, 1, 0.02, \"SAME\", \"c2\")\n",
    "        o_c3 = general_conv2d(\n",
    "            o_c2, ngf * 4, ks, ks, 1, 1, 0.02, \"SAME\", \"c3\")\n",
    "        ###32\n",
    "        ###64\n",
    "        ###128\n",
    "        o_r1 = build_resnet_block(o_c3, ngf * 4, \"r0\", padding)\n",
    "        for i in range(resnet_num-1):\n",
    "            o_r1 = build_resnet_block(o_r1, ngf * 4, \"r%d\"%(i+2), padding)\n",
    "        \n",
    "            \n",
    "        \"\"\"\n",
    "        [(W−F+2P)/S+1]\n",
    "        w:width \n",
    "        F:Filter size\n",
    "        P:padding (符合 n*n)\n",
    "        S:stride size\n",
    "        \"\"\"\n",
    "        \n",
    "        \"\"\"\n",
    "        inputconv\n",
    "        , o_d=100\n",
    "                     , f_h=1\n",
    "                     , f_w=3\n",
    "                     , s_h=1\n",
    "                     , s_w=1,\n",
    "                     stddev=0.02\n",
    "                     , padding=\"VALID\"\n",
    "                     , name=\"deconv2d\",\n",
    "                      do_relu=True, relufactor=0\n",
    "        \"\"\"\n",
    "#         o_c4 = general_deconv2d(\n",
    "#             o_r1\n",
    "#             #, [BATCH_SIZE, 128, 128, ngf * 2]\n",
    "#             , ngf * 2, ks, ks, 2, 2, 0.02,\n",
    "#             \"SAME\", \"c4\")\n",
    "#         o_c5 = general_deconv2d(\n",
    "#             o_c4\n",
    "#             #, [BATCH_SIZE, 256, 256, ngf]\n",
    "#             , ngf, ks, ks, 2, 2, 0.02,\n",
    "#             \"SAME\", \"c5\")\n",
    "#         o_c6 = general_conv2d(o_c5\n",
    "#                               #, IMG_CHANNELS\n",
    "#                               ,1\n",
    "#                               , 2\n",
    "#                               , 2\n",
    "#                               , 4\n",
    "#                               , 4\n",
    "#                               ,0.02\n",
    "#                               , \"SAME\"\n",
    "#                               , \"c6\",\n",
    "#                                      do_norm=False, do_relu=False)\n",
    "    \n",
    "#         print(o_c6.shape)\n",
    "        #_,_f,_,num = o_c6.shape\n",
    "        \n",
    "        #out_gen = tf.reshape(o_c6,[-1,_f*_f*num])\n",
    "        _,_f,_,num = o_r1.shape\n",
    "        out_gen = tf.reshape(o_r1,[-1,_f*_f*num])\n",
    "        \n",
    "        out_gen = tf.layers.dense(out_gen, 1,reuse=False,use_bias=True,activation=None)\n",
    "\n",
    "        return out_gen\n",
    "    \n",
    "def Predict_lstm(input,name='Generator_lstm',reuse=False):\n",
    "    #24,5\n",
    "    label_num = 36\n",
    "    with tf.variable_scope(name):\n",
    "        #input = tf.reshape(input,[-1,OUTPUT_SIZE*BATCH_SIZE])#\n",
    "        #[1,120]\n",
    "        INPUT_HIDDEN_SIZE = 2\n",
    "\n",
    "        \n",
    "        hidden_size = 2\n",
    "        keep_prob =0.8\n",
    "\n",
    "        num_units = [hidden_size for _ in range(0,label_num)]\n",
    "\n",
    "        cells = [tf.nn.rnn_cell.BasicLSTMCell(num_units=n,forget_bias=0.3,reuse=reuse,state_is_tuple=True) for n in num_units]\n",
    "        stacked_rnn_cell = tf.nn.rnn_cell.MultiRNNCell(cells)\n",
    "        init_state = stacked_rnn_cell.zero_state(BATCH_SIZE, dtype=tf.float32)\n",
    "        outputs, final_state  = tf.nn.dynamic_rnn(stacked_rnn_cell, inputs=input, initial_state=init_state, time_major=False)\n",
    "\n",
    "        print('output',outputs)\n",
    "        \n",
    "        outputs = tf.unstack(tf.transpose(outputs, [1,0,2]))\n",
    "        \n",
    "        print(outputs[-1])\n",
    "        \n",
    "        results = tf.layers.dense(outputs[-1], 1,reuse=reuse,use_bias=True,activation=tf.nn.leaky_relu)\n",
    "        \n",
    "\n",
    "\n",
    "        return results"
   ]
  },
  {
   "cell_type": "code",
   "execution_count": null,
   "metadata": {},
   "outputs": [],
   "source": []
  },
  {
   "cell_type": "code",
   "execution_count": 55,
   "metadata": {},
   "outputs": [
    {
     "name": "stdout",
     "output_type": "stream",
     "text": [
      "output Tensor(\"F_FORCE/rnn/transpose_1:0\", shape=(100, 30, 2), dtype=float32)\n",
      "Tensor(\"F_FORCE/unstack:29\", shape=(100, 2), dtype=float32)\n",
      "???\n"
     ]
    }
   ],
   "source": [
    "if lstm:\n",
    "    StockPriceFluctuation = (F_out)  - (G_price_in)\n",
    "    QuantityFluctuation = (G_out) - (F_quanilty_in)\n",
    "    \n",
    "    SQ_Fluctation = tf.concat([StockPriceFluctuation, QuantityFluctuation],1)\n",
    "    SQ_Fluctation = tf.reshape(SQ_Fluctation,[BATCH_SIZE,OUTPUT_SIZE,2])\n",
    "   \n",
    "    F = Predict_lstm(SQ_Fluctation,name=\"F_FORCE\",reuse=False)\n",
    "    print('???')\n",
    "else:\n",
    "    \n",
    "\n",
    "\n",
    " \n",
    "    #32\n",
    "    #8 * 4\n",
    "    #6,6\n",
    "    StockPriceFluctuation = (F_out)  - (G_price_in)\n",
    "    #6,6\n",
    "    QuantityFluctuation = (G_out) - (F_quanilty_in)\n",
    "\n",
    "    _f = int (math.sqrt(OUTPUT_SIZE * 2))\n",
    "    _f = _f+1\n",
    "    f2 = _f * _f\n",
    "    #7,7\n",
    "    rear_f = int (_f / 2)\n",
    "    \n",
    "    print(rear_f)\n",
    "    paddings = tf.constant([[0, 0], [0,1]])\n",
    "    print(_f)\n",
    "    \n",
    "    #9 * 4 = 36\n",
    "    #40 =>49\n",
    "    #80 => 81\n",
    "    if _f * rear_f < OUTPUT_SIZE:\n",
    "        rear_f +=1\n",
    "        _f +=1\n",
    "        \n",
    "    if OUTPUT_SIZE != _f * rear_f :\n",
    "        print('rear_f,_f',rear_f,_f,OUTPUT_SIZE)\n",
    "        F3 = _f * rear_f - OUTPUT_SIZE\n",
    "        \n",
    "        paddings = tf.constant([[0,0], [0,F3]])\n",
    "        #補0使其SHAPE FIT下層輸入\n",
    "        StockPriceFluctuation = tf.pad(StockPriceFluctuation,paddings,\"CONSTANT\")\n",
    "        \n",
    "        QuantityFluctuation = tf.pad(QuantityFluctuation,paddings,\"CONSTANT\")\n",
    "        \n",
    "        \n",
    "    print(StockPriceFluctuation.shape)\n",
    "    print(QuantityFluctuation.shape)\n",
    "    StockPriceFluctuation = tf.reshape(StockPriceFluctuation,[-1,_f,rear_f])\n",
    "\n",
    "    QuantityFluctuation = tf.reshape(QuantityFluctuation,[-1,_f,rear_f])\n",
    "\n",
    "\n",
    "    SQ_Fluctation = tf.concat([StockPriceFluctuation, QuantityFluctuation],2)\n",
    "    print(SQ_Fluctation.shape)\n",
    "    F4 = _f - rear_f*2\n",
    "    paddings = tf.constant([[0,0], [0,0],[0,F4]])\n",
    "    SQ_Fluctation = tf.pad(SQ_Fluctation,paddings,\"CONSTANT\")\n",
    "    SQ_Fluctation.shape\n",
    "\n",
    "    SQ_Fluctation = tf.reshape(SQ_Fluctation,[-1,_f,_f,1])\n",
    "\n",
    "    F = build_resnet_9blocks_tf2(SQ_Fluctation,name=\"F_FORCE\",resnet_num=F_resnet_layers_num)\n",
    "\n",
    "    "
   ]
  },
  {
   "cell_type": "code",
   "execution_count": 56,
   "metadata": {},
   "outputs": [
    {
     "data": {
      "text/plain": [
       "TensorShape([Dimension(100), Dimension(1)])"
      ]
     },
     "execution_count": 56,
     "metadata": {},
     "output_type": "execute_result"
    }
   ],
   "source": [
    "F.shape"
   ]
  },
  {
   "cell_type": "code",
   "execution_count": 57,
   "metadata": {},
   "outputs": [],
   "source": [
    "def simulate_friction(F,Friction,K=1.2):\n",
    "    \n",
    "    condition = tf.less(F, K*Friction)\n",
    "    \n",
    "    duplicate_Friction = tf.tile([s_Friction],[BATCH_SIZE])\n",
    "    duplicate_Friction = tf.reshape(duplicate_Friction,[BATCH_SIZE,1])\n",
    "    \n",
    "    n_F = tf.multiply(F,0.8)\n",
    "    print(n_F.shape)\n",
    "    #抵銷大部分力量\n",
    "    #待測試\n",
    "    #res = tf.where(condition, n_F, duplicate_Friction)\n",
    "    res = tf.where(condition, F, duplicate_Friction)\n",
    "    return res\n",
    "\n"
   ]
  },
  {
   "cell_type": "code",
   "execution_count": 58,
   "metadata": {},
   "outputs": [],
   "source": [
    "#預估一個數值n\n",
    "#使得output + n and output -n 可以讓大多數值在此通道內\n",
    "#透過 tf.less(UpperBound,real_prcice)得出是否大於實際值\n",
    "#透過 tf.less(real_price,LoweerBound)得出通道是否低於實際值\n",
    "#將兩者結果 (0,1)矩陣 相臣，即可知道有誰在此範圍內\n",
    "#Sum(結果) / Count(結果)知道大概幾%概括在裡面，並與目標概括機率做loss\n",
    "#盡可能多做幾次實驗 60~ 80 "
   ]
  },
  {
   "cell_type": "code",
   "execution_count": 59,
   "metadata": {},
   "outputs": [
    {
     "name": "stdout",
     "output_type": "stream",
     "text": [
      "(100, 1)\n",
      "(100, 1)\n"
     ]
    }
   ],
   "source": [
    "#d_Friction = tf.Variable(tf.float32,name='dynamic_Friction')\n",
    "#s_Friction = tf.Variable(tf.float32,name='static_Friction')\n",
    "\n",
    "if system_dynamic:\n",
    "    a =  (F - Friction)/m_in - (Reverse_F/m_in ) \n",
    "else:\n",
    "    a = F \n",
    "\n",
    "sd_f = simulate_friction(F,s_Friction)\n",
    "\n",
    "sd_a = tf.nn.relu(F - sd_f)/m_in - (Reverse_F/m_in ) \n",
    "\n",
    "print(a.shape)"
   ]
  },
  {
   "cell_type": "code",
   "execution_count": 60,
   "metadata": {},
   "outputs": [],
   "source": [
    "tvars = tf.trainable_variables()\n",
    "F_FORCE_vars = [var for var in tvars if 'F_FORCE' in var.name]\n"
   ]
  },
  {
   "cell_type": "code",
   "execution_count": 61,
   "metadata": {},
   "outputs": [],
   "source": [
    "\n",
    "Price_Predict_loss = tf.reduce_mean( tf.square( a  - a_in))\n",
    "\n",
    "Price_Predict_loss_no_mean = tf.square( a  - a_in)\n",
    "\n",
    "static_friction_loss = tf.reduce_mean( tf.abs( sd_a  - a_in))\n",
    "\n",
    "\n",
    "#Quantity_Predict_loss =tf.square( Quantity_Predict_label_IN - Quantity_Movement)\n",
    "\n",
    "\n",
    "\n"
   ]
  },
  {
   "cell_type": "code",
   "execution_count": 62,
   "metadata": {},
   "outputs": [],
   "source": [
    "train_P_label= tf.train.AdamOptimizer(lr).minimize(Price_Predict_loss,var_list = F_FORCE_vars)\n",
    "\n",
    "\n",
    "\n",
    "train_static_friction = tf.train.AdamOptimizer(lr).minimize(static_friction_loss,var_list =[s_Friction])\n",
    "\n",
    "\n",
    "\n",
    "#train_Q_label = tf.train.AdamOptimizer(lr).minimize(Quantity_Predict_loss, var_list=Q_label_vars)"
   ]
  },
  {
   "cell_type": "code",
   "execution_count": 63,
   "metadata": {},
   "outputs": [],
   "source": [
    "def restore_ins(var_weights):\n",
    "    vars_ins = []\n",
    "    Update_vars = []\n",
    "    \n",
    "    for i in range(len(var_weights)) :\n",
    "        name = var_weights[i].name\n",
    "        name = name.replace(\"\\\\\",\"_\")\n",
    "        name = name.replace(\":\",\"_\")\n",
    "        var_in = tf.placeholder(tf.float32,var_weights[i].shape,name=name)\n",
    "        vars_ins.append(var_in)\n",
    "        #print(var_weights[i],var_in)\n",
    "        #print(type(var_weights[i]))\n",
    "      \n",
    "        Update_vars.append( tf.assign(var_weights[i],var_in))\n",
    "    return vars_ins,Update_vars"
   ]
  },
  {
   "cell_type": "code",
   "execution_count": 64,
   "metadata": {},
   "outputs": [],
   "source": [
    "def restore_weights(vars_ins,Update_vars,weights):\n",
    "    #\n",
    "    feed_dict = {}\n",
    "    for i in range(len(weights)):\n",
    "        #sess.run(tf.assign(F_FORCE_vars[i],weights[i]))\n",
    "        #print('complete : %f'%(i/len(weights)))\n",
    "        feed_dict [vars_ins[i]] = weights[i]\n",
    "        #print('has value: ',vars_ins[i].name)\n",
    "    sess.run(Update_vars,feed_dict)\n",
    "        "
   ]
  },
  {
   "cell_type": "code",
   "execution_count": null,
   "metadata": {},
   "outputs": [],
   "source": []
  },
  {
   "cell_type": "code",
   "execution_count": null,
   "metadata": {},
   "outputs": [],
   "source": []
  },
  {
   "cell_type": "code",
   "execution_count": null,
   "metadata": {},
   "outputs": [],
   "source": []
  },
  {
   "cell_type": "code",
   "execution_count": 65,
   "metadata": {},
   "outputs": [],
   "source": [
    "\n",
    "def build_resnet_9blocks_tf3(input, name=\"generator\",reuse=False,resnet_num=10):\n",
    "    \n",
    "    with tf.variable_scope(name,reuse=reuse):\n",
    "        f = int( math.sqrt(OUTPUT_SIZE) )\n",
    "        ngf = 32\n",
    "        #input = tf.reshape(input,[BATCH_SIZE,f,f,1])\n",
    "        \n",
    "        ks = 2\n",
    "        padding = \"CONSTANT\"\n",
    "       \n",
    "        #RESHAPE\n",
    "       \n",
    "        o_c1 = general_conv2d(\n",
    "            input, ngf, f, f, 1, 1, 0.02, name=\"c1\")\n",
    "        o_c2 = general_conv2d(\n",
    "            o_c1, ngf * 2, ks, ks, 1, 1, 0.02, \"SAME\", \"c2\")\n",
    "        o_c3 = general_conv2d(\n",
    "            o_c2, ngf * 4, ks, ks, 1, 1, 0.02, \"SAME\", \"c3\")\n",
    "        ###32\n",
    "        ###64\n",
    "        ###128\n",
    "        o_r1 = build_resnet_block(o_c3, ngf * 4, \"r0\", padding)\n",
    "        for i in range(resnet_num-1):\n",
    "            o_r1 = build_resnet_block(o_r1, ngf * 4, \"r%d\"%(i+2), padding)\n",
    "\n",
    "        _,_f,_,num = o_r1.shape\n",
    "        out_gen = tf.reshape(o_r1,[-1,_f*_f*num])\n",
    "        \n",
    "        out_gen = tf.layers.dense(out_gen, 1,reuse=False,use_bias=True,activation=tf.nn.leaky_relu)\n",
    "\n",
    "        return out_gen"
   ]
  },
  {
   "cell_type": "code",
   "execution_count": 66,
   "metadata": {},
   "outputs": [
    {
     "data": {
      "text/plain": [
       "(2832,)"
      ]
     },
     "execution_count": 66,
     "metadata": {},
     "output_type": "execute_result"
    }
   ],
   "source": [
    "np.array(Price).shape"
   ]
  },
  {
   "cell_type": "code",
   "execution_count": 67,
   "metadata": {},
   "outputs": [],
   "source": [
    "# _f = int (math.sqrt(OUTPUT_SIZE))\n",
    "\n",
    "# G_price_2 = tf.reshape(G_price_in,[-1,_f,_f,1])\n",
    "\n",
    "# std_in = tf.placeholder(dtype=tf.float32,shape=  [None,1],name='std_in')\n",
    "\n",
    "# std =  build_resnet_9blocks_tf3(G_price_2,name=\"tunnel\",resnet_num=100)\n",
    "\n",
    "# tvars = tf.trainable_variables()\n",
    "# tunnel_vars = [var for var in tvars if 'tunnel' in var.name]\n",
    "\n",
    "\n",
    "# tunnel_loss =tf.reduce_mean( tf.square(std-std_in))\n",
    "\n",
    "# train_tunnel= tf.train.AdamOptimizer(lr).minimize(tunnel_loss,var_list = tunnel_vars)"
   ]
  },
  {
   "cell_type": "code",
   "execution_count": 68,
   "metadata": {},
   "outputs": [],
   "source": [
    "#tunnel\n",
    "#看誰比較長\n",
    "positve_a_index = [index for index,f in  enumerate( oringinal_Price_a) if f >=0]\n",
    "negative_a_index = [index for index,f in  enumerate( oringinal_Price_a) if f <0]\n"
   ]
  },
  {
   "cell_type": "code",
   "execution_count": null,
   "metadata": {},
   "outputs": [],
   "source": []
  },
  {
   "cell_type": "code",
   "execution_count": 69,
   "metadata": {},
   "outputs": [
    {
     "name": "stdout",
     "output_type": "stream",
     "text": [
      "['2007', '2008', '2009', '2010', '2011', '2012', '2013', '2014', '2015', '2016', '2017', '2018']\n",
      "1856\n",
      "2341\n",
      "2794\n",
      "2794\n",
      "2796\n",
      "2796\n"
     ]
    }
   ],
   "source": [
    "years = []\n",
    "for date in dates :\n",
    "    y = date[:4]\n",
    "    if y not in years:\n",
    "        years.append(y)\n",
    "print(years)\n",
    "\n",
    "train = '2007','2008','2009','2010','2011','2012','2013','2014'\n",
    "val = '2015','2016'\n",
    "test = '2017','2018'\n",
    "indices = []\n",
    "val_indices = []\n",
    "test_indices = []\n",
    "for i in range(1,len(dates)):\n",
    "    \n",
    "    \n",
    "    if dates[i][:4] in train:\n",
    "        indices.append(i-1)\n",
    "        \n",
    "    if dates[i][:4] in val:\n",
    "        val_indices.append(i-1)\n",
    "        \n",
    "    if dates[i][:4] in test:\n",
    "        test_indices.append(i-1)\n",
    "        \n",
    "        \n",
    "        \n",
    "print(max(indices))\n",
    "print(max(val_indices))\n",
    "print(max(test_indices))\n",
    "\n",
    "print(max(test_indices))\n",
    "print(len(dates))\n",
    "print(len(Nor_Price))\n"
   ]
  },
  {
   "cell_type": "code",
   "execution_count": 70,
   "metadata": {},
   "outputs": [],
   "source": [
    "data_len = len(negative_a_index) if len(negative_a_index)< len(positve_a_index) else len(positve_a_index)\n",
    "#從正負直接挑一半一半。\n",
    "Train_part_rate = 0.6\n",
    "Validation_part_rate = 0.2\n",
    "\n",
    "tunnel_part_choice = 30\n",
    "def sliceApart(data,Train_part_rate,Val_part_rate,indices =[],val_indices=[],test_indices = []):\n",
    "    \n",
    "    if len(indices) == 0:\n",
    "        train = '2007','2008','2009','2010','2011','2012','2013','2014'\n",
    "        val = '2015','2016'\n",
    "        test = '2017','2018'\n",
    "        indices = []\n",
    "        val_indices = []\n",
    "        test_indices = []\n",
    "        for i in range(1,len(dates)):\n",
    "    \n",
    "    \n",
    "            if dates[i][:4] in train:\n",
    "                indices.append(i-1)\n",
    "\n",
    "            if dates[i][:4] in val:\n",
    "                val_indices.append(i-1)\n",
    "\n",
    "            if dates[i][:4] in test:\n",
    "                test_indices.append(i-1)\n",
    "\n",
    "    \n",
    "    data = np.array(data).tolist()\n",
    "    \n",
    "    \n",
    "    train_data = np.array(data)[indices]\n",
    "    \n",
    "    val_data = np.array(data)[val_indices]\n",
    "    \n",
    "    \n",
    "    test_data = np.array(data)[test_indices]\n",
    "    \n",
    "    return train_data,val_data,test_data,indices,val_indices,test_indices\n",
    "\n",
    "def retriveFromdata(_indices = []):\n",
    "    if len(_indices) ==0:\n",
    "        _Nor_Price,val_nor_Price,test_nor_Price,indices,val_indices,test_indices = sliceApart(Nor_Price,Train_part_rate,Validation_part_rate)\n",
    "\n",
    "        _Nor_Quantity,val_nor_Quantity,test_nor_Quantity,_,_,_ = sliceApart(Nor_Quantity,Train_part_rate,Validation_part_rate,indices,val_indices,test_indices)\n",
    "        _MarketValue,val_MarketValue,test_MarketValue,_,_,_ = sliceApart(MarketValue,Train_part_rate,Validation_part_rate,indices,val_indices,test_indices)\n",
    "        _issued_shares,val_issued_shares,test_issued_shares,_,_,_ = sliceApart(issued_shares,Train_part_rate,Validation_part_rate,indices,val_indices,test_indices)\n",
    "        _TaxValue,val_TaxValue,test_TaxValue,_,_,_ = sliceApart(TaxValue,Train_part_rate,Validation_part_rate,indices,val_indices,test_indices)\n",
    "        \n",
    "        _Price_a,val_Price_a,test_Price_a,_,_,_ = sliceApart(Price_a,Train_part_rate,Validation_part_rate,indices,val_indices,test_indices)\n",
    "\n",
    "    else:\n",
    "        indices,val_indices,test_indices = _indices[0],_indices[1],_indices[2]\n",
    "        _Nor_Price,val_nor_Price,test_nor_Price,indices,val_indices,test_indices = sliceApart(Nor_Price,Train_part_rate,Validation_part_rate,indices,val_indices,test_indices)\n",
    "        _Nor_Quantity,val_nor_Quantity,test_nor_Quantity,_,_,_ = sliceApart(Nor_Quantity,Train_part_rate,Validation_part_rate,indices,val_indices,test_indices)\n",
    "        _MarketValue,val_MarketValue,test_MarketValue,_,_,_ = sliceApart(MarketValue,Train_part_rate,Validation_part_rate,indices,val_indices,test_indices)\n",
    "\n",
    "\n",
    "        _Price_a,val_Price_a,test_Price_a,_,_,_ = sliceApart(Price_a,Train_part_rate,Validation_part_rate,indices,val_indices,test_indices)\n",
    "        _issued_shares,val_issued_shares,test_issued_shares,_,_,_ = sliceApart(issued_shares,Train_part_rate,Validation_part_rate,indices,val_indices,test_indices)\n",
    "        _TaxValue,val_TaxValue,test_TaxValue,_,_,_ = sliceApart(TaxValue,Train_part_rate,Validation_part_rate,indices,val_indices,test_indices)\n",
    "\n",
    "\n",
    "\n",
    "    train_datas = _Nor_Price,_Nor_Quantity,_MarketValue,_Price_a,_TaxValue\n",
    "    val_datas = val_nor_Price,val_nor_Quantity,val_MarketValue,val_Price_a,val_TaxValue\n",
    "    test_datas = test_nor_Price,test_nor_Quantity,test_MarketValue,test_Price_a,test_TaxValue\n",
    "    \n",
    "    #all_datas = Nor_Price,Nor_Quantity\n",
    "    cycle_val_datas =  val_nor_Price.tolist()+_Nor_Price.tolist(),val_nor_Quantity.tolist()+_Nor_Quantity.tolist()\n",
    "    cycle_test_datas =test_nor_Price.tolist()+val_nor_Price.tolist()+ _Nor_Price.tolist(),test_nor_Quantity.tolist()+val_nor_Quantity.tolist()+_Nor_Quantity.tolist()\n",
    "    return train_datas,val_datas,test_datas,indices,val_indices,test_indices,cycle_val_datas,cycle_test_datas\n",
    "\n",
    "\n",
    "#train_All_Price,train_All_Quantity= all_datas\n",
    "#for i in range(0,100):\n",
    "    #print(np.array(train_data_nor_Price.NextTrain()).shape )"
   ]
  },
  {
   "cell_type": "code",
   "execution_count": 71,
   "metadata": {},
   "outputs": [],
   "source": [
    "current_startindice = -1\n",
    "current_end_indice = -1\n",
    "\n",
    "            \n",
    "def get_train_data(data,start_index):\n",
    "    end = False\n",
    "    datas = []\n",
    "    end_index = start_index + BATCH_SIZE\n",
    "    for i in range(len(data)):\n",
    "        if end_index >= len(data[0]):\n",
    "            d = np.array( data[i] )[start_index:]\n",
    "            res_len = end_index - len(data[0])\n",
    "            d2 = np.array( data[i] )[:res_len]\n",
    "            \n",
    "            d = d.tolist() + d2.tolist()\n",
    "            end = True\n",
    "            \n",
    "        else:\n",
    "            d = np.array( data[i] )[start_index:end_index]\n",
    "        datas.append(d)\n",
    "    if end:\n",
    "        end_index = 0\n",
    "        \n",
    "    return datas,end,end_index"
   ]
  },
  {
   "cell_type": "code",
   "execution_count": 72,
   "metadata": {},
   "outputs": [],
   "source": [
    "def test_cycle(train_data,display = 1):\n",
    "    losses = []\n",
    "    start_index = 0\n",
    "    end = False\n",
    "    while(not end):\n",
    "        \n",
    "        \n",
    "        datas,end,start_index = get_train_data(train_data,start_index)\n",
    "        \n",
    "        p = datas[0]\n",
    "        q = datas[1]\n",
    "        \n",
    "        \n",
    "        feed_dict = {\n",
    "                    G_price_in:p\n",
    "                    ,F_quanilty_in:q\n",
    "                    \n",
    "        }\n",
    "        _cyc_loss = sess.run(cyc_loss,feed_dict)\n",
    "        #_cyc_loss = _cyc_loss[:Valid_len]\n",
    "        losses.append(_cyc_loss)\n",
    "    if display == 1:\n",
    "        print(np.mean(losses))\n",
    "    return np.mean(losses)"
   ]
  },
  {
   "cell_type": "code",
   "execution_count": 73,
   "metadata": {},
   "outputs": [],
   "source": [
    "def train(times,train_data,val_data,train_type=1,demand_loss = -1):\n",
    "    step = 0\n",
    "    epoch = 200\n",
    "    \n",
    "    G_loss_nums = []\n",
    "   \n",
    "\n",
    "    F_loss_nums = []\n",
    "  \n",
    "   \n",
    "    cyc_losses_nums = []\n",
    "    average_cyc_loss = []\n",
    "    percentages = []\n",
    "    i=0\n",
    "    pre_val_loss = math.inf\n",
    "    for j in range(1,(times+1)):\n",
    "        _lr = 0.0005 if j  < times/2 else 0.0003\n",
    "        \n",
    "        \n",
    "        if demand_loss != -1:\n",
    "            train_loss = test_cycle(train_data,display=-1)\n",
    "            val_loss = test_cycle(val_data,display=-1)\n",
    "\n",
    "            difference_loss = np.abs(train_loss - val_loss)\n",
    "\n",
    "            sum_loss = val_loss + difference_loss\n",
    "            print('sum loss',sum_loss,'train loss',train_loss,'val loss',val_loss)\n",
    "            \n",
    "            if sum_loss <= demand_loss:\n",
    "                print('im ready to fight! ')\n",
    "                print('epoch:%d'%j)\n",
    "           \n",
    "                plt.plot(G_loss_nums)\n",
    "                plt.ylabel('G_loss')\n",
    "                plt.show()\n",
    "\n",
    "                plt.plot(F_loss_nums)\n",
    "                plt.ylabel('F_loss')\n",
    "                plt.show()\n",
    "\n",
    "                plt.plot(cyc_losses_nums)\n",
    "                plt.ylabel('cyc_loss')\n",
    "                plt.show()\n",
    "                _loss = test_cycle(train_data,display=-1)\n",
    "                print('average train cyc loss:',_loss)\n",
    "                print('average val  cyc loss:',val_loss)\n",
    "                #train_label(300)\n",
    "                print('epoch:%d end'%j)\n",
    "                train_cycle_weights = sess.run(all_cycle_vars)\n",
    "                return train_cycle_weights\n",
    "        \n",
    "        \n",
    "        \n",
    "       \n",
    "        start_index = 0\n",
    "        end = False\n",
    "        G1_loss_num,F_loss_num,cyc_loss_num=0,0,0\n",
    "        num = 0\n",
    "        while(not end):\n",
    "        #print(start_index)\n",
    "            \n",
    "            datas,end,start_index = get_train_data(train_data,start_index)\n",
    "            p = datas[0]\n",
    "            q = datas[1]\n",
    "            \n",
    "\n",
    "            \n",
    "\n",
    "            feed_dict= {G_price_in:p, F_quanilty_in:q\n",
    "                ,lr:_lr }\n",
    "\n",
    "            sess.run(train_Discriminator,feed_dict)\n",
    "\n",
    "            sess.run(train_Generator,feed_dict)\n",
    "\n",
    "            train_loss = test_cycle(train_data,display=-1)\n",
    "            val_loss = test_cycle(val_data,display=-1)\n",
    "\n",
    "            difference_loss = np.abs(train_loss - val_loss)\n",
    "\n",
    "            sum_loss = val_loss + difference_loss\n",
    "            G1_loss_num += sess.run(G_loss,feed_dict=feed_dict)\n",
    "            F_loss_num += sess.run(F_loss,feed_dict=feed_dict)\n",
    "            cyc_loss_num += sess.run(cyc_loss,feed_dict=feed_dict)\n",
    "\n",
    "            if pre_val_loss > sum_loss:\n",
    "                train_cycle_weights = sess.run(all_cycle_vars)\n",
    "                pre_val_loss = sum_loss\n",
    "\n",
    "            num+=1\n",
    "            #while end\n",
    "            G1_loss_num,F_loss_num,cyc_loss_num = G1_loss_num/num,F_loss_num/num,cyc_loss_num/num\n",
    "            print('val_loss',val_loss)\n",
    "\n",
    "           \n",
    "        \n",
    "            G_loss_nums.append(G1_loss_num)\n",
    "            F_loss_nums.append(F_loss_num)\n",
    "            cyc_losses_nums.append(cyc_loss_num)\n",
    "        \n",
    "        \n",
    "        \n",
    "        if j % 100 == 0 :  # plotting\n",
    "            #clear_output(wait=True)\n",
    "            \n",
    "            print('epoch:%d'%j)\n",
    "           \n",
    "            plt.plot(G_loss_nums)\n",
    "            plt.ylabel('G_loss')\n",
    "            plt.show()\n",
    "            \n",
    "            plt.plot(F_loss_nums)\n",
    "            plt.ylabel('F_loss')\n",
    "            plt.show()\n",
    "            \n",
    "            plt.plot(cyc_losses_nums)\n",
    "            plt.ylabel('cyc_loss')\n",
    "            plt.show()\n",
    "            _loss = test_cycle(train_data)\n",
    "            print('average cyc loss:',_loss)\n",
    "            #train_label(300)\n",
    "            print('epoch:%d end'%j)\n",
    "            #test(sess)\n",
    "    #end for \n",
    "        #if j %300 ==0:\n",
    "            \n",
    "    \n",
    "    \n",
    "    #save_path = saver.save(sess, store_path)\n",
    "    return train_cycle_weights\n",
    "        \n",
    "        \n"
   ]
  },
  {
   "cell_type": "code",
   "execution_count": null,
   "metadata": {
    "scrolled": true
   },
   "outputs": [],
   "source": []
  },
  {
   "cell_type": "code",
   "execution_count": null,
   "metadata": {},
   "outputs": [],
   "source": []
  },
  {
   "cell_type": "code",
   "execution_count": null,
   "metadata": {},
   "outputs": [],
   "source": []
  },
  {
   "cell_type": "code",
   "execution_count": null,
   "metadata": {},
   "outputs": [],
   "source": []
  },
  {
   "cell_type": "code",
   "execution_count": 74,
   "metadata": {},
   "outputs": [],
   "source": [
    "##test_tunnel\n",
    "def test_tunnel(train_data,indices,a=a,Bband = False,days = -1,std_n = 2,filename='',sell_signal_value = 0.8,buy_signal_value = 0.2):\n",
    "    end =False\n",
    "    start_index = 0\n",
    "    \n",
    "    real_prices = []\n",
    "    predict_prices = []\n",
    "\n",
    "    tunnel_tops = []\n",
    "    tunnel_downs = []\n",
    "\n",
    "\n",
    "    tunnel_in = []\n",
    "    \n",
    "    \n",
    "    buy = []\n",
    "    sell = []\n",
    "    buy_signal = 0\n",
    "    sell_signal = 0\n",
    "    \n",
    "    buy_indices = []\n",
    "    sell_indices = []\n",
    "    \n",
    "    bought = False\n",
    "    percent_b_indices = []\n",
    "    _real_prices = []\n",
    "    \n",
    "    MSES = []\n",
    "    while(not end):\n",
    "        #print(start_index)\n",
    "\n",
    "\n",
    "        datas,end,end_index = get_train_data(train_data,start_index)\n",
    "        p = datas[0]\n",
    "        q = datas[1]\n",
    "        _m = datas[2]\n",
    "        a_label = datas[3]\n",
    "        _tax = datas[4]\n",
    "\n",
    "        if end_index ==0:\n",
    "            _end_index = start_index+BATCH_SIZE\n",
    "\n",
    "            _indices = indices[start_index:]\n",
    "            res_len = _end_index - len(train_data[0])\n",
    "            _indices2 = np.array(indices)[:res_len]\n",
    "            _indices = np.array(_indices).tolist() + _indices2.tolist()\n",
    "            add_more = True\n",
    "        else:\n",
    "            _indices = indices[start_index:end_index]\n",
    "            add_more = False\n",
    "\n",
    "        start_index = end_index\n",
    "\n",
    "        feed_dict = {\n",
    "                    G_price_in:p\n",
    "                    ,F_quanilty_in:q\n",
    "                    ,m_in:_m\n",
    "                    ,tax_in:_tax\n",
    "        }\n",
    "\n",
    "        #print(p)\n",
    "        #print(p_label)\n",
    "        _a = sess.run(a,feed_dict=feed_dict)\n",
    "        \n",
    "        #_std = sess.run(std,feed_dict=feed_dict)\n",
    "        if add_more:\n",
    "            a_label = a_label[:-res_len]\n",
    "            _a = _a[:-res_len]\n",
    "\n",
    "\n",
    "\n",
    "        #assert len(_a) == len(_std)\n",
    "        #print(np.array(_a).shape,np.array(a_label).shape)\n",
    "        stds = []\n",
    "        \n",
    "        for i in range(len(a_label)):\n",
    "            #print('real a = ',a_label[i][0])\n",
    "           \n",
    "            if a_Normalization:\n",
    "                real_a = DeNormalization_a(a_label[i][0],Price_a_max=Price_a_max,Price_a_min=Price_a_min)\n",
    "                predict_a = DeNormalization_a(_a[i][0],Price_a_max=Price_a_max,Price_a_min=Price_a_min)\n",
    "            else:\n",
    "                real_a = (a_label[i][0])\n",
    "                predict_a = (_a[i][0])\n",
    "            \n",
    "            #Real & Predict loss\n",
    "            mse = np.square((real_a -predict_a ))\n",
    "            MSES.append(mse)\n",
    "            _index = _indices[i] #NorPrice index \n",
    "\n",
    "            #Price多第一天，故不取\n",
    "            #第1~36天\n",
    "            _last_prices = Price[_index+2:_index+2+OUTPUT_SIZE]\n",
    "            \n",
    "            if len(_last_prices)< days:\n",
    "                res_len = days -len(_last_prices) \n",
    "                res_Price = Price[(_index+2 - res_len):_index+2]\n",
    "                if _index+2 - res_len<0:\n",
    "                    continue\n",
    "                #print(len(res_Price),res_len)\n",
    "                assert len(res_Price) == res_len\n",
    "                _last_prices = res_Price + _last_prices\n",
    "                assert len(_last_prices) == days\n",
    "            \n",
    "        \n",
    "               \n",
    "  \n",
    "         \n",
    "            #37天~41\n",
    "            _prices_for_predict = Price[_index+1+OUTPUT_SIZE+1:_index+1+OUTPUT_SIZE+1+t]\n",
    "            \n",
    "            real_price = _prices_for_predict[-1]\n",
    "            close_price = _prices_for_predict[0]\n",
    "            \n",
    "           \n",
    "\n",
    "            #通道\n",
    "            \n",
    "            \n",
    "            \n",
    "            \n",
    "            \n",
    "            #assert len(_last_prices) == OUTPUT_SIZE\n",
    "            assert len(_prices_for_predict) == t\n",
    "            last_Price = _last_prices[-1]\n",
    "            #最後一天價格\n",
    "            real_price = _prices_for_predict[-1]\n",
    "\n",
    "            #真實價格\n",
    "            if system_dynamic:\n",
    "                \n",
    "                _real_price = restore_a(last_Price,real_a)\n",
    "            \n",
    "                predict_price = restore_a(last_Price,predict_a)\n",
    "            else:\n",
    "                _real_price = last_Price + real_a\n",
    "                predict_price = last_Price +predict_a\n",
    "                \n",
    "            #print(_real_price,real_price)\n",
    "            if not a_Normalization:\n",
    "                assert _real_price == real_price\n",
    "            else:\n",
    "                _real_price = round(_real_price,1)\n",
    "            \n",
    "            #print(_real_price,real_price,predict_price)\n",
    "            #print(real_a,predict_a)\n",
    "            #assert _real_price == real_price\n",
    "            if Bband:\n",
    "#                 if days != -1:\n",
    "#                     start_day = OUTPUT_SIZE - days\n",
    "                    \n",
    "#                     _last_prices = _last_prices[start_day:]\n",
    "                    \n",
    "                _ma = np.mean(_last_prices)\n",
    "                _std = np.std(_last_prices)\n",
    "                \n",
    "                tunnel_top = _ma  + std_n* _std\n",
    "                tunnel_down = _ma - std_n* _std\n",
    "            else:\n",
    "                #_last_prices = _last_prices\n",
    "                _last_prices.append(predict_price)\n",
    "                \n",
    "                \n",
    "                \n",
    "                \n",
    "#                 if days != -1:\n",
    "#                     start_day = OUTPUT_SIZE - days\n",
    "                    \n",
    "#                     _last_prices = _last_prices[start_day:]\n",
    "                    \n",
    "                _ma = np.mean(_last_prices)\n",
    "                _std = np.std(_last_prices)\n",
    "               \n",
    "\n",
    "                tunnel_top = _ma +  std_n* _std\n",
    "                tunnel_down = _ma - std_n* _std\n",
    "            \n",
    "            \n",
    "            #超出通道，股價漲跌幅\n",
    "            \n",
    "            #今日價格看是否5日後也是強勢價格\n",
    "            percent_b_index = (close_price - tunnel_down) / (tunnel_top -  tunnel_down)\n",
    "            percent_b_indices.append(percent_b_index)\n",
    "            \n",
    "            real_prices.append(real_price)\n",
    "            \n",
    "            if percent_b_index >= sell_signal_value:\n",
    "                #sell\n",
    "                sell_signal += 1 \n",
    "                \n",
    "                if len(sell) >= len(buy):\n",
    "                    #不可能先賣\n",
    "                    continue\n",
    "                \n",
    "                #print(predict_prices_trend_for_tunnel)\n",
    "                #if bought == True:\n",
    "                    #bought = False\n",
    "                sell.append(close_price)\n",
    "                sell_indices.append(len(real_prices)-1)\n",
    "                \n",
    "                \n",
    "            elif percent_b_index <= buy_signal_value:\n",
    "                #buy\n",
    "                buy_signal += 1 \n",
    "                #if bought == False:\n",
    "                #bought = True\n",
    "                    #print('date',dates[_index+1+OUTPUT_SIZE+1+t])\n",
    "                buy.append(close_price)\n",
    "                buy_indices.append(len(real_prices)-1)\n",
    "                \n",
    "   \n",
    "    \n",
    "    plt.plot(tunnel_tops,'g')\n",
    "    \n",
    "    plt.plot(real_prices,'r')\n",
    "    plt.plot(predict_prices,'b')\n",
    "    \n",
    "    plt.plot(tunnel_downs,'g')\n",
    "    plt.show()\n",
    "    \n",
    "    plt.plot(real_prices)\n",
    "    plt.plot(predict_prices,'--')\n",
    "    _filename = 'Trade_pic/'+filename+'_predict_stockprice.png'\n",
    "    print(_filename)\n",
    "    plt.savefig(_filename)\n",
    "    trade_time = 0\n",
    "    for i in range(len(buy_indices)):\n",
    "        \n",
    "        try:\n",
    "            buy_indice = buy_indices[i]\n",
    "            sell_indice = sell_indices[i]\n",
    "        except:\n",
    "            continue\n",
    "        trade_time += 1\n",
    "        pre_start_day = (buy_indice - 5)\n",
    "        post_end_day = sell_indice+5\n",
    "        prices_range = real_prices[pre_start_day:post_end_day]\n",
    "        \n",
    "        \n",
    "        post = len(prices_range)-5\n",
    "        markers_on = [5,post]\n",
    "        \n",
    "        plt.plot(prices_range,markevery=markers_on, marker='o')\n",
    "        #plt.show()\n",
    "        plt.savefig('Trade_pic/'+filename+'%d.png'%i)\n",
    "        plt.close('all')\n",
    "    print('trade_time',trade_time)\n",
    "    print('buy signal ',buy_signal)\n",
    "    print('sell signal',sell_signal)\n",
    "    plt.plot(real_prices,'r')\n",
    "    \n",
    "    \n",
    "    \n",
    "    rates = []\n",
    "    \n",
    "    plt.plot()\n",
    "    for i in range(len(sell)):\n",
    "        try:\n",
    "            r = (sell[i] - buy[i]) / buy[i]\n",
    "            rates.append(r)\n",
    "        except:\n",
    "            break\n",
    "    print('average rate return :',np.mean(rates))\n",
    "        \n",
    "    print('MSE Of a ,',np.mean(MSES))\n",
    "    return rates,real_prices,MSES"
   ]
  },
  {
   "cell_type": "code",
   "execution_count": null,
   "metadata": {},
   "outputs": [],
   "source": []
  },
  {
   "cell_type": "code",
   "execution_count": 75,
   "metadata": {},
   "outputs": [],
   "source": [
    "##test\n",
    "def test(train_data ,indices,a=a,display = 1):\n",
    "    \n",
    "    \n",
    "    losses = []\n",
    "    signs = []\n",
    "    \n",
    "    \n",
    "    MSE = []\n",
    "    \n",
    "    num = 0\n",
    "    tunnel_in_num = []\n",
    "    \n",
    "    top_tunnels = []\n",
    "    down_tunnels = []\n",
    "    \n",
    "    top_limit_nums = []\n",
    "    down_limit_nums = []\n",
    "\n",
    "    TPS =[]\n",
    "    TNS =[]\n",
    "    FPS =[]\n",
    "    FNS =[]\n",
    "    \n",
    "    start_index = 0\n",
    "    end = False\n",
    "    real_price_error = []\n",
    "    while(not end):\n",
    "        #print(start_index)\n",
    "        \n",
    "        \n",
    "        datas,end,end_index = get_train_data(train_data,start_index)\n",
    "        p = datas[0]\n",
    "        q = datas[1]\n",
    "        _m = datas[2]\n",
    "        a_label = datas[3]\n",
    "        _tax = datas[4]\n",
    "        \n",
    "        if end_index ==0:\n",
    "            _end_index = start_index+BATCH_SIZE\n",
    "            \n",
    "            _indices = indices[start_index:]\n",
    "            res_len = _end_index - len(train_data[0])\n",
    "            _indices2 = np.array(indices)[:res_len]\n",
    "            _indices = np.array(_indices).tolist() + _indices2.tolist()\n",
    "            \n",
    "        else:\n",
    "            _indices = indices[start_index:end_index]\n",
    "        start_index = end_index\n",
    "       \n",
    "        feed_dict = {\n",
    "                    G_price_in:p\n",
    "                    ,F_quanilty_in:q\n",
    "                    ,m_in:_m\n",
    "                    ,tax_in:_tax\n",
    "                    ,a_in:a_label\n",
    "        }\n",
    "        \n",
    "        #print(p)\n",
    "        #print(p_label)\n",
    "        _a = sess.run(a,feed_dict=feed_dict)\n",
    "        mse_loss = sess.run(Price_Predict_loss,feed_dict=feed_dict)\n",
    "        MSE.append(mse_loss)\n",
    "        \n",
    "       \n",
    "        \n",
    "        assert len(_a) == len(a_label)\n",
    "        #print(np.array(_a).shape,np.array(a_label).shape)\n",
    "        \n",
    "        for i in range(len(a_label)):\n",
    "            #print('real a = ',a_label[i][0])\n",
    "            if a_Normalization:\n",
    "                real_a = DeNormalization_a(a_label[i][0],Price_a_max=Price_a_max,Price_a_min=Price_a_min)\n",
    "                predict_a = DeNormalization_a(_a[i][0],Price_a_max=Price_a_max,Price_a_min=Price_a_min)\n",
    "            else:\n",
    "                real_a = (a_label[i][0])\n",
    "                predict_a = (_a[i][0])\n",
    "            _index = _indices[i] #NorPrice index \n",
    "            #print(real_a,predict_a)\n",
    "            #Price多第一天，故不取\n",
    "            #第1~36天\n",
    "            _last_prices = Price[_index+2:_index+2+OUTPUT_SIZE]\n",
    "            #37天~41\n",
    "            _prices_for_predict = Price[_index+1+OUTPUT_SIZE+1:_index+1+OUTPUT_SIZE+1+t]\n",
    "            \n",
    "            \n",
    "            \n",
    "            real_price = _prices_for_predict[-1]\n",
    "            \n",
    "            \n",
    "            #assert _real_price == real_price\n",
    "            \n",
    "            assert len(_last_prices) == OUTPUT_SIZE\n",
    "          \n",
    "            \n",
    "           \n",
    "            \n",
    "            #print(real_a,predict_a)\n",
    "            _loss = np.abs(real_a - predict_a) \n",
    "            losses.append(_loss)\n",
    "            \n",
    "            last_Price = _last_prices[-1]\n",
    "            \n",
    "            if system_dynamic:\n",
    "                _real_price = restore_a(last_Price,real_a)\n",
    "            \n",
    "                predict_price = restore_a(last_Price,predict_a)\n",
    "            else:\n",
    "                _real_price = last_Price + real_a\n",
    "                predict_price = last_Price + predict_a\n",
    "            \n",
    "            if not a_Normalization:\n",
    "                assert _real_price == real_price\n",
    "            else:\n",
    "                zzz = 1\n",
    "                \n",
    "            _real_price = round(_real_price,1)\n",
    "            predict_price = round(predict_price,1)\n",
    "            \n",
    "            loss = np.abs(real_price-predict_price)\n",
    "            real_price_error.append(loss)\n",
    "        num += len(a_label)\n",
    "        \n",
    "    if display == 1:\n",
    "       \n",
    "        print('mse:',np.mean(MSE))\n",
    "\n",
    "        #print('在tunnel的機率 ',  sum(tunnel_in_num)/ len(tunnel_in_num))\n",
    "\n",
    "        print('平均差距',np.mean(losses))\n",
    "\n",
    "        \n",
    "        plt.plot(losses)\n",
    "        plt.ylabel('losses')\n",
    "        plt.show()\n",
    "    \n",
    "        print('平均股價差距',np.mean(real_price_error))\n",
    "    return 0,0,np.mean(MSE)\n",
    "\n"
   ]
  },
  {
   "cell_type": "code",
   "execution_count": 76,
   "metadata": {},
   "outputs": [
    {
     "data": {
      "text/plain": [
       "116.17420550847457"
      ]
     },
     "execution_count": 76,
     "metadata": {},
     "output_type": "execute_result"
    }
   ],
   "source": [
    "mean_Price"
   ]
  },
  {
   "cell_type": "code",
   "execution_count": 77,
   "metadata": {},
   "outputs": [],
   "source": [
    "#train_P_label= tf.train.AdamOptimizer(lr).minimize(Price_Predict_loss,var_list = F_FORCE_vars)\n",
    "\n",
    "#train_static_friction = tf.train.AdamOptimizer(lr).minimize(static_friction_loss,var_list = [s_Friction])\n",
    "\n"
   ]
  },
  {
   "cell_type": "code",
   "execution_count": 78,
   "metadata": {},
   "outputs": [],
   "source": [
    "def train_label(times,train_data,train_type = 1,LST = False):\n",
    "    \n",
    "    p_losses = []\n",
    "    allp_losses = []\n",
    "    q_losses = []\n",
    "    a_losses = []\n",
    "    fs = []\n",
    "    SF = []\n",
    "    \n",
    "    accs = []\n",
    "    losses = []\n",
    "    scores = []\n",
    "    train_losses = []\n",
    "    for i in range(1,times+1):\n",
    "        _lr = 0.0005\n",
    "        if i >=150:\n",
    "            _lr = 0.0003\n",
    "        if i >= (times/2) :\n",
    "            _lr = 0.0001\n",
    "        num = 0\n",
    "        p_loss = 0\n",
    "\n",
    "        start_index = 0\n",
    "        end = False\n",
    "        while(not end):\n",
    "            #print(start_index)\n",
    "\n",
    "            datas,end,start_index = get_train_data(train_data,start_index)\n",
    "            \n",
    "            p = datas[0]\n",
    "            q = datas[1]\n",
    "            _m = datas[2]\n",
    "            _a = datas[3]\n",
    "            _tax = datas[4]  \n",
    "\n",
    "            \n",
    "            feed_dict = {G_price_in:p\n",
    "                         ,F_quanilty_in:q\n",
    "                        ,lr:_lr\n",
    "                        ,a_in:_a   \n",
    "                         ,m_in:_m\n",
    "                        ,tax_in:_tax\n",
    "                }\n",
    "\n",
    "            sess.run([train_P_label],feed_dict=feed_dict)\n",
    "            \n",
    "\n",
    "            num+=1\n",
    "        a_loss = sess.run(Price_Predict_loss,feed_dict)\n",
    "        a_losses.append(a_loss)\n",
    "           \n",
    "        #訓練\n",
    "        \n",
    "        #losses.append(loss)\n",
    "        print('current epoch:%d'%i)\n",
    "\n",
    "        train_acc,train_recall,train_loss = test(train_datas,indices,display = 0)\n",
    "        #train_losses.append(train_loss)\n",
    "    \n",
    "        val_accruacy,val_recall,val_loss = test(val_datas,val_indices,display = 0)\n",
    "\n",
    "        score =(val_accruacy)#*0.6 + val_recall*0.4\n",
    "        scores.append(score)\n",
    "        acc = val_accruacy\n",
    "\n",
    "        accs.append(acc)\n",
    "\n",
    "        loss = ((val_loss))\n",
    "\n",
    "        losses.append(loss)\n",
    "\n",
    "        if  loss == np.min(losses):\n",
    "            save_weights = sess.run(F_FORCE_vars)\n",
    "            save_loss = loss\n",
    "            print('better than before')\n",
    "            #restore_weights(cycle_weights_in,update_cycle_weights,test_cycle_weights)\n",
    "            #test(test_datas,test_indices)\n",
    "                \n",
    "        #restore_weights(cycle_weights_in,update_cycle_weights,train_cycle_weights)\n",
    "        \n",
    "        if i %100==0  :\n",
    "            clear_output(wait=True)\n",
    "            plt.plot(losses)\n",
    "            plt.ylabel('val losses')\n",
    "            plt.show()\n",
    "            \n",
    "            \n",
    "    #allp_losses = np.reshape(allp_losses,[-1])\n",
    "    #allp_losses = allp_losses[]\n",
    "    plt.plot(accs)\n",
    "    plt.ylabel('acc')\n",
    "    plt.show()\n",
    "    \n",
    "    plt.plot(a_losses)\n",
    "    plt.ylabel('train_loss')\n",
    "    plt.show()\n",
    "    \n",
    "    plt.plot(losses)\n",
    "    plt.ylabel('val losses ')\n",
    "    plt.show()\n",
    "\n",
    "    \n",
    "    \n",
    "    return save_weights,save_loss,p_losses"
   ]
  },
  {
   "cell_type": "code",
   "execution_count": null,
   "metadata": {},
   "outputs": [],
   "source": []
  },
  {
   "cell_type": "code",
   "execution_count": 79,
   "metadata": {},
   "outputs": [],
   "source": [
    "sess = tf.Session() \n",
    "sess.run(tf.global_variables_initializer())\n",
    "plt.ion()   # something about continuous plotting\n"
   ]
  },
  {
   "cell_type": "code",
   "execution_count": null,
   "metadata": {},
   "outputs": [],
   "source": []
  },
  {
   "cell_type": "code",
   "execution_count": 80,
   "metadata": {},
   "outputs": [],
   "source": [
    "##用於還原nn的weight,助於測試結果\n",
    "\n",
    "original_cycle_weights = sess.run(all_cycle_vars)\n",
    "\n",
    "\n",
    "original_f_weights = sess.run(F_FORCE_vars)\n",
    "\n",
    "#original_std_weights = sess.run(tunnel_vars)\n",
    "\n",
    "cycle_weights_in,update_cycle_weights = restore_ins(all_cycle_vars)\n",
    "\n",
    "\n",
    "f_weights_in,update_f_weights = restore_ins(F_FORCE_vars)\n",
    "\n",
    "#std_weights_in,update_std_weights = restore_ins(tunnel_vars)"
   ]
  },
  {
   "cell_type": "code",
   "execution_count": 81,
   "metadata": {},
   "outputs": [
    {
     "data": {
      "text/plain": [
       "TensorShape([Dimension(100), Dimension(1)])"
      ]
     },
     "execution_count": 81,
     "metadata": {},
     "output_type": "execute_result"
    }
   ],
   "source": [
    "F.shape\n"
   ]
  },
  {
   "cell_type": "code",
   "execution_count": 82,
   "metadata": {},
   "outputs": [],
   "source": [
    "#saver = tf.train.Saver()\n",
    "#saver.save(sess,save_path='./36_0.8.cpgk')\n",
    "accs = []\n",
    "losses = []\n",
    "t_accs = []\n",
    "#\n",
    "###回復原本的網路\n",
    "\n"
   ]
  },
  {
   "cell_type": "code",
   "execution_count": 83,
   "metadata": {},
   "outputs": [],
   "source": [
    "restore_weights(cycle_weights_in,update_cycle_weights,original_cycle_weights)\n",
    "restore_weights(Update_vars=update_f_weights,vars_ins=f_weights_in,weights=original_f_weights)\n"
   ]
  },
  {
   "cell_type": "code",
   "execution_count": 84,
   "metadata": {},
   "outputs": [],
   "source": [
    "from datetime import datetime \n",
    "import time\n",
    "\n"
   ]
  },
  {
   "cell_type": "code",
   "execution_count": 85,
   "metadata": {
    "scrolled": true
   },
   "outputs": [],
   "source": [
    "# start_time = datetime.now() \n",
    "# # train(3000,train_datas,train_type=2,demand_loss=0.085)\n",
    "# # train_cycle_weights = sess.run(all_cycle_vars)\n",
    "# # time_elapsed = datetime.now() - start_time \n",
    "\n",
    "# print('Time elapsed (hh:mm:ss.ms) {}'.format(time_elapsed))"
   ]
  },
  {
   "cell_type": "code",
   "execution_count": 86,
   "metadata": {},
   "outputs": [
    {
     "name": "stdout",
     "output_type": "stream",
     "text": [
      "2794\n",
      "2796\n",
      "2796\n",
      "2796\n"
     ]
    }
   ],
   "source": [
    "# np.savez('indices.npz', name1=indices)\n",
    "# np.savez('val_indices.npz', name1=val_indices)\n",
    "# np.savez('test_indices.npz', name1=test_indices)\n",
    "\n",
    "# indices = np.load('indices.npz')['name1']\n",
    "# val_indices = np.load('val_indices.npz')['name1']\n",
    "# test_indices = np.load('test_indices.npz')['name1']\n",
    "print(max(test_indices))\n",
    "\n",
    "print(len(Nor_Price))\n",
    "print(len(MarketValue))\n",
    "print(len(Price_a))"
   ]
  },
  {
   "cell_type": "code",
   "execution_count": 87,
   "metadata": {
    "scrolled": true
   },
   "outputs": [],
   "source": [
    "\n",
    "# if load == True:\n",
    "#     #讀 訓練 / 驗證 / 測試\n",
    "    \n",
    "#     train_datas,val_datas,test_datas,indices,val_indices,test_indices,cycle_val_datas,cycle_test_datas = retriveFromdata()\n",
    "#     train_cycle_weights = np.load('train_cycle_weights_year.npz')['name1']\n",
    "#     restore_weights(cycle_weights_in,update_cycle_weights,train_cycle_weights)\n",
    "    \n",
    "    \n",
    "\n",
    "\n",
    "# else:\n",
    "train_datas,val_datas,test_datas,indices,val_indices,test_indices,cycle_val_datas,cycle_test_datas = retriveFromdata()\n",
    "    \n",
    "\n",
    "\n",
    "train_data_nor_Price,train_data_nor_Quanility,train_data_MarketValue,train_data_Price_a,train_data_TaxValue=train_datas \n",
    "validation_data_nor_Price,validation_data_nor_Quanility,validation_data_MakertValue,validation_Price_a,validation_TaxValue=val_datas  \n",
    "test_data_nor_Price,test_data_nor_Quanility,test_data_MarketValue,test_data_Price_a,test_data_TaxValue=test_datas\n"
   ]
  },
  {
   "cell_type": "code",
   "execution_count": null,
   "metadata": {},
   "outputs": [],
   "source": [
    "\n"
   ]
  },
  {
   "cell_type": "code",
   "execution_count": 88,
   "metadata": {},
   "outputs": [
    {
     "data": {
      "text/plain": [
       "(1857, 1857)"
      ]
     },
     "execution_count": 88,
     "metadata": {},
     "output_type": "execute_result"
    }
   ],
   "source": [
    "\n",
    "len(train_data_nor_Price),len(train_data_Price_a)"
   ]
  },
  {
   "cell_type": "code",
   "execution_count": 89,
   "metadata": {},
   "outputs": [],
   "source": [
    "# # train_cycle_weights = np.load('train_cycle_weights.npz')['name1']\n",
    "# # restore_weights(cycle_weights_in,update_cycle_weights,train_cycle_weights)\n",
    "# np.savez('train_cycle_weights_year.npz', name1=train_cycle_weights)\n",
    "\n",
    "# np.savez('indices_year.npz', name1=indices)\n",
    "# np.savez('val_indices_year.npz', name1=val_indices)\n",
    "# np.savez('test_indices_year.npz', name1=test_indices)\n",
    "\n",
    "# from scipy.misc import toimage\n",
    "# #toimage(data).show()\n",
    "# end = False\n",
    "# start_index = 0\n",
    "# datas,end,end_index = get_train_data(train_datas,start_index)\n",
    "# ___price = datas[0]\n",
    "\n",
    "# ___price = ___price[0]\n",
    "\n",
    "# ___price = np.reshape(___price,[6,6,1])\n",
    "# print(___price.shape)\n",
    "\n",
    "# from PIL import Image\n",
    "# # img = Image.fromarray(___price, 'RGB')\n",
    "# # img.save('my.png')\n",
    "# # img.show()"
   ]
  },
  {
   "cell_type": "code",
   "execution_count": 90,
   "metadata": {},
   "outputs": [],
   "source": [
    "#train_cycle_weights = sess.run(all_cycle_vars)\n",
    "# indices = np.load('indices_year.npz')['name1']\n",
    "# val_indices = np.load('val_indices_year.npz')['name1']\n",
    "# test_indices = np.load('test_indices_year.npz')['name1']\n",
    "\n",
    "train_cycle_weights = np.load('train_cycle_weights_30_years.npz')['name1']\n",
    "restore_weights(cycle_weights_in,update_cycle_weights,train_cycle_weights)\n",
    "\n",
    "# train_cycle_weights = np.load('train_cycle_weights_year.npz')['name1']\n",
    "# restore_weights(cycle_weights_in,update_cycle_weights,train_cycle_weights)\n",
    "\n",
    "\n",
    "# np.savez('train_cycle_weights_temp.npz', name1=train_cycle_weights)\n",
    "# # restore_weights(cycle_weights_in,update_cycle_weights,train_cycle_weights)\n",
    "\n",
    "# np.savez('indices_temp.npz', name1=indices)\n",
    "# np.savez('val_indices_temp.npz', name1=val_indices)\n",
    "# np.savez('test_indices_temp.npz', name1=test_indices)\n",
    " "
   ]
  },
  {
   "cell_type": "code",
   "execution_count": 91,
   "metadata": {
    "scrolled": true
   },
   "outputs": [
    {
     "name": "stdout",
     "output_type": "stream",
     "text": [
      "sum loss 0.01672499 train loss 0.016229397 val loss 0.016477194\n",
      "im ready to fight! \n",
      "epoch:1\n"
     ]
    },
    {
     "data": {
      "image/png": "[encoded data removed]",
      "text/plain": [
       "<Figure size 432x288 with 1 Axes>"
      ]
     },
     "metadata": {},
     "output_type": "display_data"
    },
    {
     "data": {
      "image/png": "[encoded data removed]",
      "text/plain": [
       "<Figure size 432x288 with 1 Axes>"
      ]
     },
     "metadata": {},
     "output_type": "display_data"
    },
    {
     "data": {
      "image/png": "[encoded data removed]",
      "text/plain": [
       "<Figure size 432x288 with 1 Axes>"
      ]
     },
     "metadata": {},
     "output_type": "display_data"
    },
    {
     "name": "stdout",
     "output_type": "stream",
     "text": [
      "average train cyc loss: 0.016229397\n",
      "average val  cyc loss: 0.016477194\n",
      "epoch:1 end\n",
      "0.016229397\n",
      "0.016477194\n",
      "0.015846474\n"
     ]
    }
   ],
   "source": [
    "\n",
    "if load == True:\n",
    "    print('i''ve trained')\n",
    "    #train_cycle_weights = train(1,train_datas,val_datas,train_type=2,demand_loss=0.03)\n",
    "else:\n",
    "    train_cycle_weights = train(1000,train_datas,val_datas,train_type=2,demand_loss=0.02)\n",
    "#train_cycle_weights = sess.run(all_cycle_vars)\n",
    "\n",
    "test_cycle(train_datas)\n",
    "test_cycle(val_datas)\n",
    "test_cycle(test_datas)\n",
    "\n",
    "\n",
    "#\n",
    "val_cycle_weights = test_cycle_weights = train_cycle_weights\n",
    "\n",
    "# np.savez('train_cycle_weights_622.npz', name1=train_cycle_weights)\n",
    "# np.savez('indices_622.npz', name1=indices)\n",
    "# np.savez('val_indices_622.npz', name1=val_indices)\n",
    "# np.savez('test_indices_622.npz', name1=test_indices)\n"
   ]
  },
  {
   "cell_type": "code",
   "execution_count": 92,
   "metadata": {},
   "outputs": [],
   "source": [
    "#20天 cycle loss\n",
    "#0.031995635\n",
    "#0.038789876\n",
    "#0.036866438\n",
    "#30天\n",
    "# 0.016229397\n",
    "# 0.016477194\n",
    "# 0.015846474\n",
    "#40天\n",
    "# 0.0015571207\n",
    "# 0.031062838\n",
    "# 0.030280465\n",
    "#np.savez('train_cycle_weights_30_years.npz', name1=train_cycle_weights)"
   ]
  },
  {
   "cell_type": "code",
   "execution_count": 93,
   "metadata": {},
   "outputs": [],
   "source": [
    "#np.savez('f_force_save_weight_year.npz', name1=save_weight)"
   ]
  },
  {
   "cell_type": "code",
   "execution_count": 94,
   "metadata": {
    "scrolled": true
   },
   "outputs": [
    {
     "data": {
      "image/png": "[encoded data removed]",
      "text/plain": [
       "<Figure size 432x288 with 1 Axes>"
      ]
     },
     "metadata": {},
     "output_type": "display_data"
    },
    {
     "data": {
      "image/png": "[encoded data removed]",
      "text/plain": [
       "<Figure size 432x288 with 1 Axes>"
      ]
     },
     "metadata": {},
     "output_type": "display_data"
    },
    {
     "data": {
      "image/png": "[encoded data removed]",
      "text/plain": [
       "<Figure size 432x288 with 1 Axes>"
      ]
     },
     "metadata": {},
     "output_type": "display_data"
    },
    {
     "data": {
      "image/png": "[encoded data removed]",
      "text/plain": [
       "<Figure size 432x288 with 1 Axes>"
      ]
     },
     "metadata": {},
     "output_type": "display_data"
    }
   ],
   "source": [
    "# if load and not lstm and  not a_Normalization:\n",
    "#     save_weights = np.load('f_force_save_weight_year.npz')['name1']\n",
    "\n",
    "#     restore_weights(Update_vars=update_f_weights,vars_ins=f_weights_in,weights=save_weights)\n",
    "# elif load and not lstm and a_Normalization:\n",
    "#     save_weights = np.load('f_force_resnet_normalized_year.npz')['name1']\n",
    "\n",
    "#     restore_weights(Update_vars=update_f_weights,vars_ins=f_weights_in,weights=save_weights)\n",
    "# else:\n",
    "restore_weights(Update_vars=update_f_weights,vars_ins=f_weights_in,weights=original_f_weights)\n",
    "\n",
    "if lstm:\n",
    "\n",
    "    save_weight,save_loss,label_loss = train_label(100,train_datas,train_type=2,LST=False)\n",
    "else:\n",
    "    save_weight,save_loss,label_loss = train_label(500,train_datas,train_type=2,LST=False)\n",
    "\n",
    "\n",
    "restore_weights(Update_vars=update_f_weights,vars_ins=f_weights_in,weights=save_weight)\n",
    "\n",
    "#acc,loss,t_acc = test(test_datas,test_indices)\n",
    "    \n"
   ]
  },
  {
   "cell_type": "code",
   "execution_count": 95,
   "metadata": {
    "scrolled": false
   },
   "outputs": [
    {
     "name": "stdout",
     "output_type": "stream",
     "text": [
      "mse: 0.002683305\n",
      "平均差距 1.9944982687344677\n"
     ]
    },
    {
     "data": {
      "image/png": "[encoded data removed]",
      "text/plain": [
       "<Figure size 432x288 with 1 Axes>"
      ]
     },
     "metadata": {},
     "output_type": "display_data"
    },
    {
     "name": "stdout",
     "output_type": "stream",
     "text": [
      "平均股價差距 1.9941842105263154\n",
      "mse: 0.006459153\n",
      "平均差距 3.3713420780301093\n"
     ]
    },
    {
     "data": {
      "image/png": "[encoded data removed]",
      "text/plain": [
       "<Figure size 432x288 with 1 Axes>"
      ]
     },
     "metadata": {},
     "output_type": "display_data"
    },
    {
     "name": "stdout",
     "output_type": "stream",
     "text": [
      "平均股價差距 3.371999999999999\n",
      "mse: 0.018342443\n",
      "平均差距 5.0776026732884345\n"
     ]
    },
    {
     "data": {
      "image/png": "[encoded data removed]",
      "text/plain": [
       "<Figure size 432x288 with 1 Axes>"
      ]
     },
     "metadata": {},
     "output_type": "display_data"
    },
    {
     "name": "stdout",
     "output_type": "stream",
     "text": [
      "平均股價差距 5.077799999999999\n"
     ]
    }
   ],
   "source": [
    "train_acc,train_recall,train_loss = test(train_datas,indices)\n",
    "        \n",
    "    \n",
    "    \n",
    "val_accruacy,val_recall,val_loss = test(val_datas,val_indices)\n",
    "test_accruacy,test_recall,test_loss = test(test_datas,test_indices)\n",
    "# 30\n",
    "# mse: 0.094973914\n",
    "# mse: 0.14048794\n",
    "# mse: 0.33454952\n",
    "\n",
    "# 60\n",
    "# mse: 0.12900639\n",
    "# mse: 0.14866208\n",
    "# mse: 0.32760862\n",
    "\n",
    "#90\n",
    "#mse: 0.0914509\n",
    "#mse: 0.14604922\n",
    "#mse: 0.33388183\n",
    "\n",
    "#RESNET\n",
    "# no system dynamic and no normalization\n",
    "# mse: 6.897131\n",
    "# 平均股價差距 1.9692368421052633\n",
    "# mse: 17.15033\n",
    "# 平均股價差距 3.36\n",
    "# mse: 48.776146\n",
    "# 平均股價差距 5.1042000000000005\n",
    "\n",
    "# system dynamic and no Normalization\n",
    "# mse: 0.10290454\n",
    "# 平均股價差距 3.211394736842105\n",
    "# mse: 0.16515777\n",
    "# 平均股價差距 4.104\n",
    "# mse: 0.33787745\n",
    "# 平均股價差距 5.390599999999999\n",
    "\n",
    "#system dynamic and Normalization\n",
    "\n",
    "# mse: 0.14330134\n",
    "# 平均股價差距 15.592605263157896\n",
    "# mse: 0.05308482\n",
    "# 平均股價差距 9.153\n",
    "# mse: 0.0914881\n",
    "# 平均股價差距 12.2104\n",
    "\n",
    "#no system dynamic and Normalization\n",
    "# mse: 0.0022944\n",
    "# 平均股價差距 1.906973684210526\n",
    "# mse: 0.009280657\n",
    "# 平均股價差距 3.9997999999999996\n",
    "# mse: 0.019344639\n",
    "# 平均股價差距 5.3466000000000005\n",
    "\n",
    "\n",
    "#lstm\n",
    "#NO SYSTEM DYNAMIC AND NO NORMALIZATION\n",
    "# mse: 7.111908\n",
    "#平均股價差距 1.9952368421052635\n",
    "#mse: 17.146702\n",
    "#平均股價差距 3.380000000000001\n",
    "#mse: 48.669594\n",
    "#平均股價差距 5.0802000000000005\n",
    "\n",
    "# #system dynamic and no normalization\n",
    "# mse: 0.1389201\n",
    "# 平均股價差距 3.518605263157895\n",
    "\n",
    "# mse: 0.1398336\n",
    "# 平均股價差距 3.7601999999999998\n",
    "# mse: 0.33216518\n",
    "# 平均股價差距 5.308799999999999\n",
    "\n",
    "##system dynamic and normalization\n",
    "# mse: 0.14330134\n",
    "# 平均股價差距 15.592605263157896\n",
    "# mse: 0.05308482\n",
    "# 平均股價差距 9.153\n",
    "# mse: 0.0914881\n",
    "# 平均股價差距 12.2104\n",
    "\n",
    "##no system dynamic and normalization\n",
    "# mse: 0.0026814814\n",
    "# 平均股價差距 1.9945526315789472\n",
    "# mse: 0.00646579\n",
    "# 平均股價差距 3.371999999999999\n",
    "# mse: 0.018351346\n",
    "# 平均股價差距 5.077799999999999\n",
    "\n",
    "#system dynamic and normalization\n",
    "# mse: 0.09410314\n",
    "# 平均股價差距 11.243815789473684\n",
    "# mse: 0.09882288\n",
    "\n",
    "# 平均股價差距 13.5698\n",
    "# mse: 0.17061481\n",
    "# 平均股價差距 18.659800000000004"
   ]
  },
  {
   "cell_type": "code",
   "execution_count": 96,
   "metadata": {},
   "outputs": [
    {
     "data": {
      "text/plain": [
       "(True, True, False)"
      ]
     },
     "execution_count": 96,
     "metadata": {},
     "output_type": "execute_result"
    }
   ],
   "source": [
    "\n",
    "#np.savez('f_force_save_weight_year_30_40.npz', name1=save_weight)\n",
    "lstm,a_Normalization,system_dynamic"
   ]
  },
  {
   "cell_type": "code",
   "execution_count": null,
   "metadata": {},
   "outputs": [],
   "source": []
  },
  {
   "cell_type": "code",
   "execution_count": null,
   "metadata": {},
   "outputs": [],
   "source": []
  },
  {
   "cell_type": "code",
   "execution_count": 97,
   "metadata": {
    "scrolled": true
   },
   "outputs": [],
   "source": [
    "# restore_weights(Update_vars=update_std_weights,vars_ins=std_weights_in,weights=original_std_weights)\n",
    "\n",
    "# save_std_weights = train_std(train_data=train_datas,indices=indices,epoch = 20000)\n",
    "\n",
    "# restore_weights(Update_vars=update_std_weights,vars_ins=std_weights_in,weights=save_std_weights)\n",
    "\n"
   ]
  },
  {
   "cell_type": "code",
   "execution_count": 98,
   "metadata": {
    "scrolled": true
   },
   "outputs": [],
   "source": [
    "# # # acc1,top1,down1,rate1 = test_tunnel(train_datas,indices=indices,Bband = True,days= 25)\n",
    "# # # # acc2,top2,down2,rate2= test_tunnel(val_datas,indices=val_indices,Bband = True,days= 25)\n",
    "# # # # acc3,top3,down3,rate3 = test_tunnel(test_datas,indices=test_indices,Bband = True,days= 25)\n",
    "# rates = []\n",
    "# # #0~21\n",
    "# # #5~37\n",
    "# # #0 5 1 6 26\n",
    "\n",
    "# for i in (5,10,15,20,25,30,35):\n",
    "    \n",
    "#     rate1,top1,down1 = test_tunnel(train_datas,indices=indices,Bband = True,days= i,sell_signal_value=1,buy_signal_value=0)\n",
    "#     rate2,top2,down2= test_tunnel(val_datas,indices=val_indices,Bband = True,days= i,sell_signal_value=1,buy_signal_value=0)\n",
    "#     rate3,top3,down3 = test_tunnel(test_datas,indices=test_indices,Bband = True,days= i,sell_signal_value=1,buy_signal_value=0)\n",
    "    \n",
    "#     rate = rate1 + rate2 +rate3\n",
    "#     #rate = rate3\n",
    "#     average = np.mean(rate)\n",
    "#     rates.append(average)\n",
    "# print(np.argmax(rates))\n"
   ]
  },
  {
   "cell_type": "code",
   "execution_count": 99,
   "metadata": {
    "scrolled": true
   },
   "outputs": [
    {
     "data": {
      "image/png": "[encoded data removed]",
      "text/plain": [
       "<Figure size 432x288 with 1 Axes>"
      ]
     },
     "metadata": {},
     "output_type": "display_data"
    },
    {
     "name": "stdout",
     "output_type": "stream",
     "text": [
      "Trade_pic/BBand_Train_predict_stockprice.png\n",
      "trade_time 93\n",
      "buy signal  93\n",
      "sell signal 183\n",
      "average rate return : 0.14036186253460273\n",
      "MSE Of a , 7.201630749051793\n"
     ]
    },
    {
     "data": {
      "image/png": "[encoded data removed]",
      "text/plain": [
       "<Figure size 432x288 with 1 Axes>"
      ]
     },
     "metadata": {},
     "output_type": "display_data"
    },
    {
     "name": "stdout",
     "output_type": "stream",
     "text": [
      "Trade_pic/BBand_val_predict_stockprice.png\n",
      "trade_time 38\n",
      "buy signal  38\n",
      "sell signal 42\n",
      "average rate return : 0.2070904763458869\n",
      "MSE Of a , 17.122698807964074\n"
     ]
    },
    {
     "data": {
      "image/png": "[encoded data removed]",
      "text/plain": [
       "<Figure size 432x288 with 1 Axes>"
      ]
     },
     "metadata": {},
     "output_type": "display_data"
    },
    {
     "name": "stdout",
     "output_type": "stream",
     "text": [
      "Trade_pic/BBand_test_predict_stockprice.png\n",
      "trade_time 18\n",
      "buy signal  25\n",
      "sell signal 59\n",
      "average rate return : 0.12120448154732534\n",
      "MSE Of a , 52.07358949216138\n",
      "all average return rate 0.15506558379002425\n"
     ]
    },
    {
     "data": {
      "image/png": "[encoded data removed]",
      "text/plain": [
       "<Figure size 432x288 with 1 Axes>"
      ]
     },
     "metadata": {},
     "output_type": "display_data"
    }
   ],
   "source": [
    "days = 35\n",
    "rate1,_,_ = test_tunnel(train_datas,indices=indices,Bband = True,days= days,std_n=2,filename='BBand_Train',sell_signal_value=1,buy_signal_value=0)\n",
    "rate2,_,_= test_tunnel(val_datas,indices=val_indices,Bband = True,days= days,std_n=2,filename='BBand_val',sell_signal_value=1,buy_signal_value=0)\n",
    "rate3,_,_ = test_tunnel(test_datas,indices=test_indices,Bband = True,days= days,std_n=2,filename='BBand_test',sell_signal_value=1,buy_signal_value=0)\n",
    "\n",
    "\n",
    "\n",
    "\n",
    "rate = rate1 + rate2 +rate3\n",
    "average = np.mean(rate)\n",
    "plt.close('all')\n",
    "plt.hist(rate)\n",
    "plt.xlabel('return rate')\n",
    "plt.ylabel('times')\n",
    "#plt.show()\n",
    "plt.savefig('Trade_pic/BBand_average_return.png')\n",
    "\n",
    "print('all average return rate',average)\n",
    "\n",
    "\n",
    "\n",
    "\n"
   ]
  },
  {
   "cell_type": "code",
   "execution_count": 100,
   "metadata": {
    "scrolled": true
   },
   "outputs": [
    {
     "data": {
      "image/png": "[encoded data removed]",
      "text/plain": [
       "<Figure size 432x288 with 1 Axes>"
      ]
     },
     "metadata": {},
     "output_type": "display_data"
    },
    {
     "name": "stdout",
     "output_type": "stream",
     "text": [
      "Trade_pic/LSTM_Train_predict_stockprice.png\n",
      "trade_time 84\n",
      "buy signal  84\n",
      "sell signal 155\n",
      "average rate return : 0.16136712937650405\n",
      "MSE Of a , 7.201630749051793\n"
     ]
    },
    {
     "data": {
      "image/png": "[encoded data removed]",
      "text/plain": [
       "<Figure size 432x288 with 1 Axes>"
      ]
     },
     "metadata": {},
     "output_type": "display_data"
    },
    {
     "name": "stdout",
     "output_type": "stream",
     "text": [
      "Trade_pic/LSTM_val_predict_stockprice.png\n",
      "trade_time 31\n",
      "buy signal  34\n",
      "sell signal 33\n",
      "average rate return : 0.2497622931293341\n",
      "MSE Of a , 17.122698807964074\n"
     ]
    },
    {
     "data": {
      "image/png": "[encoded data removed]",
      "text/plain": [
       "<Figure size 432x288 with 1 Axes>"
      ]
     },
     "metadata": {},
     "output_type": "display_data"
    },
    {
     "name": "stdout",
     "output_type": "stream",
     "text": [
      "Trade_pic/LSTM_test_predict_stockprice.png\n",
      "trade_time 17\n",
      "buy signal  23\n",
      "sell signal 44\n",
      "average rate return : 0.12433106641198544\n",
      "MSE Of a , 52.07358949216138\n"
     ]
    },
    {
     "data": {
      "image/png": "[encoded data removed]",
      "text/plain": [
       "<Figure size 432x288 with 1 Axes>"
      ]
     },
     "metadata": {},
     "output_type": "display_data"
    },
    {
     "name": "stdout",
     "output_type": "stream",
     "text": [
      "all average return rate 0.17735680366393522\n",
      "True\n"
     ]
    },
    {
     "data": {
      "image/png": "[encoded data removed]",
      "text/plain": [
       "<Figure size 432x288 with 1 Axes>"
      ]
     },
     "metadata": {},
     "output_type": "display_data"
    }
   ],
   "source": [
    "filename = 'Resnet'\n",
    "if lstm == True:\n",
    "    filename = 'LSTM'\n",
    "days = 35\n",
    "\n",
    "rate1_nn,_,Train_mses = test_tunnel(train_datas,indices=indices,days= days,std_n=2,filename=filename+'_Train',sell_signal_value=1,buy_signal_value=0)\n",
    "rate2_nn,_,Val_mses  = test_tunnel(val_datas,indices=val_indices,days= days,std_n=2,filename=filename+'_val',sell_signal_value=1,buy_signal_value=0)\n",
    "rate3_nn,_,Test_mses  = test_tunnel(test_datas,indices=test_indices,days= days,std_n=2,filename=filename+'_test',sell_signal_value=1,buy_signal_value=0)\n",
    "\n",
    "\n",
    "rate = rate1_nn + rate2_nn +rate3_nn\n",
    "#print('rate1,rate2,rate3',rate1,rate2,rate3)\n",
    "#print(rate1_nn,rate2_nn,rate3_nn)\n",
    "average_nn = np.mean(rate)\n",
    "\n",
    "\n",
    "plt.hist(rate3_nn)\n",
    "plt.ylabel('rate3 ')\n",
    "plt.show()\n",
    "\n",
    "\n",
    "print('all average return rate',average_nn)\n",
    "print(average_nn>average)\n",
    "\n",
    "plt.close('all')\n",
    "plt.hist(rate)\n",
    "plt.xlabel('return rate')\n",
    "plt.ylabel('times')\n",
    "#plt.show()\n",
    "plt.savefig('Trade_pic/%s_average_return.png'%filename)\n"
   ]
  },
  {
   "cell_type": "code",
   "execution_count": 101,
   "metadata": {},
   "outputs": [
    {
     "data": {
      "text/plain": [
       "(False, True, True)"
      ]
     },
     "execution_count": 101,
     "metadata": {},
     "output_type": "execute_result"
    }
   ],
   "source": [
    "#RESNET no system dynamic no a normalization\n",
    "system_dynamic,lstm,a_Normalization\n",
    "# Trade_pic/Resnet_Train_predict_stockprice.png\n",
    "# trade_time 86\n",
    "# buy signal  86\n",
    "# sell signal 146\n",
    "# average rate return : 0.17588985328542114\n",
    "# MSE Of a , 6.934987936573269\n",
    "\n",
    "# Trade_pic/Resnet_val_predict_stockprice.png\n",
    "# trade_time 31\n",
    "# buy signal  34\n",
    "# sell signal 33\n",
    "# average rate return : 0.2621046796553357\n",
    "# MSE Of a , 17.039818974182218\n",
    "\n",
    "# Trade_pic/Resnet_test_predict_stockprice.png\n",
    "# trade_time 17\n",
    "# buy signal  23\n",
    "# sell signal 43\n",
    "# average rate return : 0.12433106641198544\n",
    "# MSE Of a , 52.97665759829276\n",
    "\n",
    "# all average return rate 0.18929403418556254\n",
    "# True"
   ]
  },
  {
   "cell_type": "code",
   "execution_count": 102,
   "metadata": {},
   "outputs": [],
   "source": [
    "#LSTM no system dynamic no a normalization\n",
    "# Trade_pic/LSTM_Train_predict_stockprice.png\n",
    "# trade_time 84\n",
    "# buy signal  84\n",
    "# sell signal 157\n",
    "# average rate return : 0.15618440401320796\n",
    "# MSE Of a , 7.19732418483681\n",
    "\n",
    "# Trade_pic/LSTM_val_predict_stockprice.png\n",
    "# trade_time 32\n",
    "# buy signal  34\n",
    "# sell signal 34\n",
    "# average rate return : 0.2296960805071717\n",
    "# MSE Of a , 17.1392771754386\n",
    "\n",
    "# Trade_pic/LSTM_test_predict_stockprice.png\n",
    "# trade_time 17\n",
    "# buy signal  23\n",
    "# sell signal 44\n",
    "# average rate return : 0.12433106641198544\n",
    "# MSE Of a , 52.082395346170294\n",
    "\n",
    "# all average return rate 0.16979994467926854\n",
    "# True\n"
   ]
  },
  {
   "cell_type": "code",
   "execution_count": 103,
   "metadata": {},
   "outputs": [
    {
     "ename": "NameError",
     "evalue": "name 'save_friction' is not defined",
     "output_type": "error",
     "traceback": [
      "\u001b[1;31m---------------------------------------------------------------------------\u001b[0m",
      "\u001b[1;31mNameError\u001b[0m                                 Traceback (most recent call last)",
      "\u001b[1;32m<ipython-input-103-c9370c101081>\u001b[0m in \u001b[0;36m<module>\u001b[1;34m()\u001b[0m\n\u001b[0;32m      1\u001b[0m \u001b[0moringinal_Friction\u001b[0m \u001b[1;33m=\u001b[0m \u001b[0msess\u001b[0m\u001b[1;33m.\u001b[0m\u001b[0mrun\u001b[0m\u001b[1;33m(\u001b[0m\u001b[0ms_Friction\u001b[0m\u001b[1;33m)\u001b[0m\u001b[1;33m\u001b[0m\u001b[0m\n\u001b[1;32m----> 2\u001b[1;33m \u001b[0ms_Friction\u001b[0m\u001b[1;33m.\u001b[0m\u001b[0massign\u001b[0m\u001b[1;33m(\u001b[0m\u001b[0msave_friction\u001b[0m\u001b[1;33m)\u001b[0m\u001b[1;33m\u001b[0m\u001b[0m\n\u001b[0m",
      "\u001b[1;31mNameError\u001b[0m: name 'save_friction' is not defined"
     ]
    }
   ],
   "source": [
    "oringinal_Friction = sess.run(s_Friction)\n",
    "s_Friction.assign(save_friction)"
   ]
  },
  {
   "cell_type": "markdown",
   "metadata": {},
   "source": [
    "#### sess.run(a,)"
   ]
  },
  {
   "cell_type": "code",
   "execution_count": null,
   "metadata": {},
   "outputs": [],
   "source": [
    "acc,loss,t_acc = test(train_datas,indices)\n",
    "acc,loss,t_acc = test(train_datas,indices,a=sd_a)#"
   ]
  },
  {
   "cell_type": "code",
   "execution_count": null,
   "metadata": {},
   "outputs": [],
   "source": [
    "acc,loss,t_acc = test(val_datas,val_indices)\n",
    "\n",
    "\n",
    "acc,loss,t_acc = test(val_datas,val_indices,a=sd_a)"
   ]
  },
  {
   "cell_type": "code",
   "execution_count": null,
   "metadata": {
    "scrolled": false
   },
   "outputs": [],
   "source": [
    "\n",
    "acc,loss,t_acc = test(test_datas,test_indices)\n",
    "acc,loss,t_acc = test(test_datas,test_indices,a=sd_a)\n"
   ]
  },
  {
   "cell_type": "code",
   "execution_count": null,
   "metadata": {},
   "outputs": [],
   "source": [
    "test_cycle(train_datas)\n",
    "test_cycle(val_datas)\n",
    "test_cycle(test_datas)\n",
    "\n"
   ]
  },
  {
   "cell_type": "code",
   "execution_count": null,
   "metadata": {
    "scrolled": true
   },
   "outputs": [],
   "source": [
    "negative = [f for f in Price_a if f <=0]\n",
    "positive = [f for f in Price_a if f >0]\n",
    "\n",
    "print(len(negative),len(positive))\n"
   ]
  },
  {
   "cell_type": "code",
   "execution_count": null,
   "metadata": {},
   "outputs": [],
   "source": []
  },
  {
   "cell_type": "code",
   "execution_count": null,
   "metadata": {},
   "outputs": [],
   "source": [
    "#test(test_datas,test_indices)\n"
   ]
  },
  {
   "cell_type": "code",
   "execution_count": null,
   "metadata": {},
   "outputs": [],
   "source": []
  },
  {
   "cell_type": "code",
   "execution_count": null,
   "metadata": {},
   "outputs": [],
   "source": [
    "# train_datas = _Nor_Price,_Nor_Quantity,_MarketValue,_Price_a,_TaxValue\n",
    "# val_datas = val_nor_Price,val_nor_Quantity,val_MarketValue,val_Price_a,val_TaxValue\n",
    "# test_datas = test_nor_Price,test_nor_Quantity,test_MarketValue,test_Price_a,test_TaxValue"
   ]
  },
  {
   "cell_type": "code",
   "execution_count": null,
   "metadata": {},
   "outputs": [],
   "source": [
    "train_price = np.array(Price)[indices]\n",
    "val_price = np.array(Price)[val_indices]\n",
    "test_price = np.array(Price)[test_indices]\n",
    "\n",
    "train_price_std = np.std(train_price)\n",
    "val_price_std = np.std(val_price)\n",
    "test_price_std = np.std(test_price)\n"
   ]
  },
  {
   "cell_type": "code",
   "execution_count": null,
   "metadata": {},
   "outputs": [],
   "source": [
    "print(train_price_std,val_price_std,test_price_std)"
   ]
  },
  {
   "cell_type": "code",
   "execution_count": null,
   "metadata": {},
   "outputs": [],
   "source": [
    "#store_price_a = store_price_a[1:]"
   ]
  },
  {
   "cell_type": "code",
   "execution_count": null,
   "metadata": {},
   "outputs": [],
   "source": [
    "year_indices = []\n",
    "start_year = 2007\n",
    "\n",
    "for i in range(1,len(dates)):\n",
    "    if dates[i][:4] in str(start_year):\n",
    "        year_indices.append(i-1)\n",
    "        start_year +=1\n",
    "   "
   ]
  },
  {
   "cell_type": "code",
   "execution_count": null,
   "metadata": {},
   "outputs": [],
   "source": [
    "year_indices"
   ]
  },
  {
   "cell_type": "code",
   "execution_count": null,
   "metadata": {},
   "outputs": [],
   "source": [
    "indice_2016 = [f for f in indices if f >=1610 and f<1857]"
   ]
  },
  {
   "cell_type": "code",
   "execution_count": null,
   "metadata": {},
   "outputs": [],
   "source": [
    "year2016_datas,_,_,_,_,_,_,_ = retriveFromdata([indice_2016,val_indices,test_indices])"
   ]
  },
  {
   "cell_type": "code",
   "execution_count": null,
   "metadata": {},
   "outputs": [],
   "source": [
    "days = 20\n",
    "filename = 'test'\n",
    "rate3  = test_tunnel(year2016_datas,indices=indice_2016,days= days,std_n=2,filename=filename+'_test')\n",
    "\n"
   ]
  },
  {
   "cell_type": "code",
   "execution_count": null,
   "metadata": {},
   "outputs": [],
   "source": [
    "indice_2017 = [f for f in test_indices if f  >=2342 and f<2585]"
   ]
  },
  {
   "cell_type": "code",
   "execution_count": null,
   "metadata": {},
   "outputs": [],
   "source": [
    "year2017_datas,_,_,_,_,_,_,_ = retriveFromdata([indice_2017,val_indices,test_indices])"
   ]
  },
  {
   "cell_type": "code",
   "execution_count": null,
   "metadata": {},
   "outputs": [],
   "source": [
    "rate3  = test_tunnel(year2017_datas,indices=indice_2017,days= days,std_n=2,filename=filename+'_test')\n",
    "\n"
   ]
  },
  {
   "cell_type": "code",
   "execution_count": null,
   "metadata": {},
   "outputs": [],
   "source": [
    "rate3  = test_tunnel(year2017_datas+year2018_datas,indices=indice_2017+indice_2018,days= days,std_n=2,filename=filename+'_test')\n",
    "\n"
   ]
  },
  {
   "cell_type": "code",
   "execution_count": null,
   "metadata": {},
   "outputs": [],
   "source": [
    "store_price_a[38]"
   ]
  },
  {
   "cell_type": "code",
   "execution_count": null,
   "metadata": {},
   "outputs": [],
   "source": [
    "s = DeNormalization_a(Price_a[1][0],Price_a_max=Price_a_max,Price_a_min = Price_a_min)"
   ]
  },
  {
   "cell_type": "code",
   "execution_count": null,
   "metadata": {},
   "outputs": [],
   "source": [
    "print(s)"
   ]
  },
  {
   "cell_type": "code",
   "execution_count": null,
   "metadata": {},
   "outputs": [],
   "source": [
    "store_price_a[38]"
   ]
  },
  {
   "cell_type": "code",
   "execution_count": null,
   "metadata": {},
   "outputs": [],
   "source": [
    "max(store_price_a),min(store_price_a)"
   ]
  },
  {
   "cell_type": "code",
   "execution_count": null,
   "metadata": {},
   "outputs": [],
   "source": [
    "Price_a[1]"
   ]
  },
  {
   "cell_type": "code",
   "execution_count": null,
   "metadata": {},
   "outputs": [],
   "source": [
    "store_price_a[37]"
   ]
  },
  {
   "cell_type": "code",
   "execution_count": null,
   "metadata": {},
   "outputs": [],
   "source": [
    "Price[37],Price[37+5]"
   ]
  },
  {
   "cell_type": "code",
   "execution_count": null,
   "metadata": {},
   "outputs": [],
   "source": [
    "restore_a(a=store_price_a[38],y_price=Price[38])"
   ]
  },
  {
   "cell_type": "code",
   "execution_count": null,
   "metadata": {},
   "outputs": [],
   "source": [
    "Price_a[0]"
   ]
  },
  {
   "cell_type": "code",
   "execution_count": null,
   "metadata": {},
   "outputs": [],
   "source": [
    "iii = 1\n",
    "real_a = Price_a[iii][0]\n",
    "#predict_a = DeNormalization_a(_a[i][0],Price_a_max=Price_a_max,Price_a_min=Price_a_min)\n",
    "            \n",
    "_index = indices[iii]#_indices[i] #NorPrice index \n",
    "\n",
    "#Price多第一天，故不取\n",
    "#第1~36天\n",
    "_last_prices = Price[_index+2:_index+2+OUTPUT_SIZE]\n",
    "print(_last_prices)\n",
    "#37天~41\n",
    "_prices_for_predict = Price[_index+1+OUTPUT_SIZE+1:_index+1+OUTPUT_SIZE+1+t]\n",
    "print(_prices_for_predict)\n",
    "real_price = _prices_for_predict[-1]\n",
    "close_price = _last_prices[-1]\n",
    "\n",
    "predict_prices_trend_for_tunnel = Price[_index+1+OUTPUT_SIZE+1+t+1:_index+1+OUTPUT_SIZE+1+t+5]\n",
    "\n",
    "\n",
    "#通道\n",
    "\n",
    "\n",
    "\n",
    "\n",
    "\n",
    "assert len(_last_prices) == OUTPUT_SIZE\n",
    "assert len(_prices_for_predict) == t\n",
    "last_Price = _last_prices[-1]\n",
    "#最後一天價格\n",
    "\n",
    "#真實價格\n",
    "print('last price',last_Price)\n",
    "_real_price = restore_a(last_Price,real_a)\n",
    "print('real a',real_a)\n",
    "#real_prices.append(real_price)\n",
    "print(_real_price,real_price)\n"
   ]
  },
  {
   "cell_type": "code",
   "execution_count": null,
   "metadata": {},
   "outputs": [],
   "source": [
    "\n",
    "__a = 2*(60.8 -61.5) / (5**2)\n",
    "print(__a)\n",
    "\n",
    "_real_price = restore_a(last_Price,__a)\n",
    "print(_real_price)"
   ]
  },
  {
   "cell_type": "code",
   "execution_count": null,
   "metadata": {},
   "outputs": [],
   "source": [
    "indices[1]"
   ]
  },
  {
   "cell_type": "code",
   "execution_count": null,
   "metadata": {},
   "outputs": [],
   "source": [
    "0.13415097* 0.6 + 0.14449972 * 0.2 + 0.33492452* 0.2"
   ]
  },
  {
   "cell_type": "code",
   "execution_count": null,
   "metadata": {},
   "outputs": [],
   "source": [
    "(0.0852755900572736 - 0.07527706268355241) / 0.07527706268355241"
   ]
  },
  {
   "cell_type": "code",
   "execution_count": null,
   "metadata": {},
   "outputs": [],
   "source": []
  },
  {
   "cell_type": "code",
   "execution_count": null,
   "metadata": {},
   "outputs": [],
   "source": [
    "plt.plot(Price[1610+37:2000])\n",
    "plt.show()"
   ]
  },
  {
   "cell_type": "code",
   "execution_count": null,
   "metadata": {},
   "outputs": [],
   "source": [
    "rate1,ps,rs = test_tunnel(train_datas,indices=indices,Bband = True,days= days,std_n=2,filename='BBand_Train')\n",
    "print(ps[:-10])"
   ]
  },
  {
   "cell_type": "code",
   "execution_count": null,
   "metadata": {},
   "outputs": [],
   "source": [
    "0.07 * (Price_a_max-Price_a_min) + Price_a_min"
   ]
  },
  {
   "cell_type": "code",
   "execution_count": null,
   "metadata": {},
   "outputs": [],
   "source": [
    "Price_a_min"
   ]
  },
  {
   "cell_type": "code",
   "execution_count": null,
   "metadata": {},
   "outputs": [],
   "source": [
    "(0.20382745793516016 -0.15506558379002425 ) / 0.15506558379002425"
   ]
  },
  {
   "cell_type": "code",
   "execution_count": null,
   "metadata": {},
   "outputs": [],
   "source": []
  }
 ],
 "metadata": {
  "kernelspec": {
   "display_name": "Python 3",
   "language": "python",
   "name": "python3"
  },
  "language_info": {
   "codemirror_mode": {
    "name": "ipython",
    "version": 3
   },
   "file_extension": ".py",
   "mimetype": "text/x-python",
   "name": "python",
   "nbconvert_exporter": "python",
   "pygments_lexer": "ipython3",
   "version": "3.6.5"
  }
 },
 "nbformat": 4,
 "nbformat_minor": 2
}
